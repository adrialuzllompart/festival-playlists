{
 "cells": [
  {
   "cell_type": "code",
   "execution_count": 25,
   "metadata": {},
   "outputs": [],
   "source": [
    "import numpy as np\n",
    "import pandas as pd\n",
    "import requests\n",
    "import json\n",
    "import spotipy\n",
    "from IPython.display import display"
   ]
  },
  {
   "cell_type": "markdown",
   "metadata": {},
   "source": [
    "### Set credentials needed to authorise APIs"
   ]
  },
  {
   "cell_type": "code",
   "execution_count": 26,
   "metadata": {},
   "outputs": [],
   "source": [
    "with open('../auth.json') as f:\n",
    "    credentials = json.load(f)\n",
    "\n",
    "setlistfm_api_key = credentials['setlistfm']['api_key']\n",
    "spotify_client_id = credentials['spotify']['client_id']\n",
    "spotify_client_secret = credentials['spotify']['client_secret']"
   ]
  },
  {
   "cell_type": "markdown",
   "metadata": {},
   "source": [
    "### Setlist FM"
   ]
  },
  {
   "cell_type": "markdown",
   "metadata": {},
   "source": [
    "#### Plan of action\n",
    "1. Given a lineup (list of band names), get their Musicbrainz identifiers (`mbid`) via `https://api.setlist.fm/rest/1.0/search/artists`\n",
    "2. Retrieve the setlists for each artist using their `mbid` via `https://api.setlist.fm/rest/1.0/artist/{artist_mbid}/setlists\n",
    "`"
   ]
  },
  {
   "cell_type": "code",
   "execution_count": 46,
   "metadata": {},
   "outputs": [],
   "source": [
    "lineup = pd.read_csv(\n",
    "    '../data/test_lineup.csv', header=None, names=['band'], encoding=\"ISO-8859-1\"\n",
    ")['band'].values"
   ]
  },
  {
   "cell_type": "code",
   "execution_count": 47,
   "metadata": {},
   "outputs": [
    {
     "data": {
      "text/plain": [
       "114"
      ]
     },
     "execution_count": 47,
     "metadata": {},
     "output_type": "execute_result"
    }
   ],
   "source": [
    "len(lineup)"
   ]
  },
  {
   "cell_type": "code",
   "execution_count": 29,
   "metadata": {},
   "outputs": [
    {
     "data": {
      "text/plain": [
       "array(['Gorillaz', 'The Strokes', 'Young Thug', 'Tame Impala',\n",
       "       'Disclosure', 'Beck', 'Tyler, The Creator', 'The National',\n",
       "       'Charli XCX', 'Bad Bunny', 'Iggy Pop', 'Jorja Smith', 'Metronomy',\n",
       "       'Earl Sweatshirt', 'Caribou', 'Brockhampton', 'Jamie xx',\n",
       "       'DJ Shadow', 'Kurt Vile', 'Yo La Tengo', 'FKA twigs',\n",
       "       'Cigarettes After Sex', 'The Jesus and Mary Chain', 'Dinosaur Jr.',\n",
       "       'King Krule', 'Chromatics', 'Pavement', 'Young Dolph',\n",
       "       'Black Lips', 'Mabel', 'Freddie Gibbs', 'Khruangbin',\n",
       "       'King Gizzard & The Lizard Wizard', 'DIIV', 'Rapsody', 'Madlib',\n",
       "       'Bauhaus', 'Kano', 'Black Coffee', 'Desire', 'Little Simz',\n",
       "       'Jamila Woods', 'IDLES', 'Autechre', 'Slowthai', 'C. Tangana',\n",
       "       'Nina Kraviz', 'Pabllo Vittar', 'Napalm Death', 'Les Savy Fav',\n",
       "       'Beach Bunny', 'Koffee', 'Rolling Blackouts Coastal Fever',\n",
       "       'Big Freedia', 'Einst\\x9frzende Neubauten', 'Shellac', 'Duki',\n",
       "       'Mano Le Tough', 'Leon Vynehall', 'Shame', 'Fatima Yamaha',\n",
       "       'Helado Negro', 'Lightning Bolt', 'FONTAINES D.C.', 'Jenny Hval',\n",
       "       'Cuban Doll', 'OM', 'Jehnny Beth', 'Rina Sawayama',\n",
       "       'Jessica Pratt', 'Bikini Kill', 'Caroline Polachek', 'Boy Harsher',\n",
       "       'Amelie Lens', 'Bad Gyal', 'Faye Webster', 'Manel', 'Paloma Mami',\n",
       "       'Black Midi', 'Special Request', 'Jawbox', 'Amaia',\n",
       "       'Hannah Diamond', 'Joan Shelley', 'Martha', 'Mica Levi',\n",
       "       '100 gecs', 'Kim Gordon', 'Evian Christ', 'Tim Burgess',\n",
       "       'Yung Beef', 'The Murder Capital', 'Abbath', 'Carolina Durante',\n",
       "       'The Caretaker', 'Otoboke Beaver', 'Ben UFO', 'Shygirl',\n",
       "       'DJ Harvey', 'Ela Minus', 'Lingua Ignota', 'Lorenzo Senni',\n",
       "       'Black Country, New Road', 'Oklou', 'Bigklit',\n",
       "       'Mariah the Scientist', 'La Favi', 'Maria del Mar Bonet',\n",
       "       'Gabber Modus Operandi', 'Sangre Nueva', 'Sonido La Changa',\n",
       "       'Vagina Dentata Organ', 'Aeaea', 'Los Hijos De Yayo'], dtype=object)"
      ]
     },
     "execution_count": 29,
     "metadata": {},
     "output_type": "execute_result"
    }
   ],
   "source": [
    "lineup"
   ]
  },
  {
   "cell_type": "code",
   "execution_count": 30,
   "metadata": {},
   "outputs": [],
   "source": [
    "lineup = lineup[:10]"
   ]
  },
  {
   "cell_type": "code",
   "execution_count": 31,
   "metadata": {},
   "outputs": [
    {
     "data": {
      "text/plain": [
       "array(['Gorillaz', 'The Strokes', 'Young Thug', 'Tame Impala',\n",
       "       'Disclosure', 'Beck', 'Tyler, The Creator', 'The National',\n",
       "       'Charli XCX', 'Bad Bunny'], dtype=object)"
      ]
     },
     "execution_count": 31,
     "metadata": {},
     "output_type": "execute_result"
    }
   ],
   "source": [
    "lineup"
   ]
  },
  {
   "cell_type": "code",
   "execution_count": 32,
   "metadata": {},
   "outputs": [],
   "source": [
    "artists_url = 'https://api.setlist.fm/rest/1.0/search/artists'"
   ]
  },
  {
   "cell_type": "code",
   "execution_count": 33,
   "metadata": {},
   "outputs": [],
   "source": [
    "lineup_mbids = []\n",
    "not_found = []\n",
    "\n",
    "for name in lineup:\n",
    "    req = requests.get(artists_url,\n",
    "                       headers={'x-api-key': setlistfm_api_key, 'Accept': 'application/json'},\n",
    "                       params={'artistName': name, 'p': 1, 'sort': 'relevance'}\n",
    "    )\n",
    "    \n",
    "    i = 0\n",
    "    while (not req.ok) & (i <= 3):\n",
    "        req = requests.get(artists_url,\n",
    "                           headers={'x-api-key': setlistfm_api_key, 'Accept': 'application/json'},\n",
    "                           params={'artistName': name, 'p': 1, 'sort': 'relevance'}\n",
    "        )\n",
    "        i += 1\n",
    "    \n",
    "    if req.ok:\n",
    "        artist_response = req.json()['artist']\n",
    "        num_artists = len(artist_response)\n",
    "        if num_artists > 1:\n",
    "            for i in range(num_artists):\n",
    "                if artist_response[i]['name'].lower() == name.lower():\n",
    "                    mbid = artist_response[i]['mbid']\n",
    "                    lineup_mbids.append({'name': name, 'mbid': mbid})\n",
    "                    break\n",
    "                    \n",
    "    else:\n",
    "        print(f'Couldn\\'t find {name}')\n",
    "        not_found.append(name)"
   ]
  },
  {
   "cell_type": "code",
   "execution_count": 34,
   "metadata": {},
   "outputs": [
    {
     "data": {
      "text/plain": [
       "[{'name': 'Gorillaz', 'mbid': 'e21857d5-3256-4547-afb3-4b6ded592596'},\n",
       " {'name': 'The Strokes', 'mbid': 'f181961b-20f7-459e-89de-920ef03c7ed0'},\n",
       " {'name': 'Young Thug', 'mbid': '800760de-bdf8-43a2-8fe0-44a2401a5515'},\n",
       " {'name': 'Tame Impala', 'mbid': '63aa26c3-d59b-4da4-84ac-716b54f1ef4d'},\n",
       " {'name': 'Disclosure', 'mbid': 'ae65c507-d9a0-4d42-9a6c-2b1f82158b9f'},\n",
       " {'name': 'Beck', 'mbid': '309c62ba-7a22-4277-9f67-4a162526d18a'},\n",
       " {'name': 'Tyler, The Creator',\n",
       "  'mbid': 'f6beac20-5dfe-4d1f-ae02-0b0a740aafd6'},\n",
       " {'name': 'The National', 'mbid': '664c3e0e-42d8-48c1-b209-1efca19c0325'},\n",
       " {'name': 'Charli XCX', 'mbid': '260b6184-8828-48eb-945c-bc4cb6fc34ca'},\n",
       " {'name': 'Bad Bunny', 'mbid': '89aa5ecb-59ad-46f5-b3eb-2d424e941f19'}]"
      ]
     },
     "execution_count": 34,
     "metadata": {},
     "output_type": "execute_result"
    }
   ],
   "source": [
    "lineup_mbids[-10:]"
   ]
  },
  {
   "cell_type": "code",
   "execution_count": 35,
   "metadata": {},
   "outputs": [
    {
     "data": {
      "text/plain": [
       "[]"
      ]
     },
     "execution_count": 35,
     "metadata": {},
     "output_type": "execute_result"
    }
   ],
   "source": [
    "not_found"
   ]
  },
  {
   "cell_type": "code",
   "execution_count": 36,
   "metadata": {},
   "outputs": [],
   "source": [
    "artist_setlist = []\n",
    "\n",
    "for a in lineup_mbids:\n",
    "    songs_played = []\n",
    "    mbid = a['mbid']\n",
    "    setlists_url = f'https://api.setlist.fm/rest/1.0/artist/{mbid}/setlists'\n",
    "    \n",
    "    req = requests.get(setlists_url,\n",
    "             headers={'x-api-key': setlistfm_api_key, 'Accept': 'application/json'},\n",
    "             params={'p': 1}\n",
    "    )\n",
    "    \n",
    "    i = 0\n",
    "    while (not req.ok) & (i <= 3):\n",
    "        req = requests.get(setlists_url,\n",
    "                 headers={'x-api-key': setlistfm_api_key, 'Accept': 'application/json'},\n",
    "                 params={'p': 1}\n",
    "        )\n",
    "        i += 1\n",
    "            \n",
    "    if req.ok:\n",
    "    \n",
    "        setlist_response = req.json()['setlist']\n",
    "        num_setlists = len(setlist_response)\n",
    "\n",
    "        for i in range(num_setlists):\n",
    "            setlist = setlist_response[i]['sets']['set']\n",
    "            num_sections = len(setlist)\n",
    "            total_songs = []\n",
    "            for p in range(num_sections):\n",
    "                total_songs += setlist[p]['song']\n",
    "            num_songs = len(total_songs)\n",
    "\n",
    "            for i in range(num_songs):\n",
    "                song = total_songs[i]\n",
    "                song_title = song['name']\n",
    "                # if the song is a cover add the original artist to the song title\n",
    "                if 'cover' in song:\n",
    "                    song_title += ' {}'.format(song['cover']['name'])\n",
    "                songs_played.append(song_title)\n",
    "                                           \n",
    "        most_played_songs = list(pd.Series(songs_played).value_counts().head(15).index)\n",
    "\n",
    "        artist_setlist.append({\n",
    "            'artist': a['name'],\n",
    "            'setlist': most_played_songs\n",
    "        })\n",
    "    else:\n",
    "        print(a['name'])"
   ]
  },
  {
   "cell_type": "code",
   "execution_count": 37,
   "metadata": {},
   "outputs": [
    {
     "data": {
      "text/plain": [
       "[{'artist': 'Gorillaz',\n",
       "  'setlist': ['On Melancholy Hill',\n",
       "   'Humility',\n",
       "   'Tomorrow Comes Today',\n",
       "   'Every Planet We Reach Is Dead',\n",
       "   'Tranz',\n",
       "   'Last Living Souls',\n",
       "   'Souk Eye',\n",
       "   'Andromeda',\n",
       "   'M1 A1',\n",
       "   'El Mañana',\n",
       "   'Kids With Guns',\n",
       "   'Strobelite',\n",
       "   'Stylo',\n",
       "   'Feel Good Inc.',\n",
       "   'Clint Eastwood']},\n",
       " {'artist': 'The Strokes',\n",
       "  'setlist': ['Hard to Explain',\n",
       "   'You Only Live Once',\n",
       "   'Someday',\n",
       "   'Heart in a Cage',\n",
       "   'Reptilia',\n",
       "   'The Modern Age',\n",
       "   'Last Nite',\n",
       "   'What Ever Happened?',\n",
       "   'New York City Cops',\n",
       "   'Ize of the World',\n",
       "   'Soma',\n",
       "   'Juicebox',\n",
       "   \"I Can't Win\",\n",
       "   'Meet Me in the Bathroom',\n",
       "   'On the Other Side']},\n",
       " {'artist': 'Young Thug',\n",
       "  'setlist': ['Best Friend',\n",
       "   'With That',\n",
       "   'The London',\n",
       "   'Digits',\n",
       "   'Pick Up the Phone Travis Scott & Young Thug',\n",
       "   'With Them',\n",
       "   'Ecstasy',\n",
       "   'Check',\n",
       "   'Killed Before Future & Young Thug',\n",
       "   'About the Money T.I.',\n",
       "   'Relationship',\n",
       "   'On the Run',\n",
       "   'Hot',\n",
       "   'Lifestyle Rich Gang',\n",
       "   'Bad Bad Bad']},\n",
       " {'artist': 'Tame Impala',\n",
       "  'setlist': ['Nangs',\n",
       "   'The Less I Know the Better',\n",
       "   'Feels Like We Only Go Backwards',\n",
       "   'Let It Happen',\n",
       "   'Elephant',\n",
       "   'Apocalypse Dreams',\n",
       "   'Borderline',\n",
       "   'Eventually',\n",
       "   'New Person, Same Old Mistakes',\n",
       "   'Patience',\n",
       "   'Mind Mischief',\n",
       "   \"Why Won't You Make Up Your Mind?\",\n",
       "   'Mutant Gossip',\n",
       "   'List of People (To Try and Forget About)',\n",
       "   'The Moment']},\n",
       " {'artist': 'Disclosure',\n",
       "  'setlist': ['White Noise',\n",
       "   'Latch',\n",
       "   'Holding On',\n",
       "   'Running Jessie Ware',\n",
       "   'Music Sounds Better With You Stardust',\n",
       "   'When a Fire Starts to Burn',\n",
       "   'Ultimatum',\n",
       "   'F for You',\n",
       "   'You & Me',\n",
       "   'Intro',\n",
       "   'Help Me Lose My Mind',\n",
       "   '',\n",
       "   'Got 2 Be Loved Soul Reductions',\n",
       "   'Piano Hand Chris Lake & Chris Lorenzo',\n",
       "   'Brighter Days Cajmere feat. Dajaé']},\n",
       " {'artist': 'Beck',\n",
       "  'setlist': [\"Where It's At\",\n",
       "   'Devils Haircut',\n",
       "   'Dreams',\n",
       "   'E-Pro',\n",
       "   'Night Running Cage the Elephant',\n",
       "   'Wow',\n",
       "   'Lost Cause',\n",
       "   'Saw Lightning',\n",
       "   'Up All Night',\n",
       "   'Girl',\n",
       "   'The New Pollution',\n",
       "   'Loser',\n",
       "   'Debra',\n",
       "   'Mixed Bizness',\n",
       "   'Qué Onda Güero']},\n",
       " {'artist': 'Tyler, The Creator',\n",
       "  'setlist': ['EARFQUAKE',\n",
       "   'NEW MAGIC WAND',\n",
       "   \"IGOR'S THEME\",\n",
       "   'IFHY',\n",
       "   'PUPPET',\n",
       "   'Yonkers',\n",
       "   'See You Again',\n",
       "   'Who Dat Boy',\n",
       "   'I THINK',\n",
       "   'Tamale',\n",
       "   '911',\n",
       "   'She',\n",
       "   'Boredom',\n",
       "   'A BOY IS A GUN*',\n",
       "   'RUNNING OUT OF TIME']},\n",
       " {'artist': 'The National',\n",
       "  'setlist': ['Where Is Her Head',\n",
       "   'Terrible Love',\n",
       "   'Hey Rosey',\n",
       "   'The System Only Dreams in Total Darkness',\n",
       "   'Bloodbuzz Ohio',\n",
       "   'Light Years',\n",
       "   'Fake Empire',\n",
       "   'Mr. November',\n",
       "   'Rylan',\n",
       "   'You Had Your Soul With You',\n",
       "   'I Need My Girl',\n",
       "   'Oblivions',\n",
       "   'Vanderlyle Crybaby Geeks',\n",
       "   \"Don't Swallow the Cap\",\n",
       "   'Graceless']},\n",
       " {'artist': 'Charli XCX',\n",
       "  'setlist': ['1999',\n",
       "   'Vroom Vroom',\n",
       "   'Gone',\n",
       "   'Unlock It',\n",
       "   'Boys',\n",
       "   'Next Level Charli',\n",
       "   'I Love It Icona Pop',\n",
       "   'White Mercedes',\n",
       "   'I Got It',\n",
       "   'Click',\n",
       "   'Track 10 / Blame It on Your Love',\n",
       "   'Official',\n",
       "   'February 2017',\n",
       "   'Warm',\n",
       "   \"I Don't Wanna Know\"]},\n",
       " {'artist': 'Bad Bunny',\n",
       "  'setlist': ['Callaita',\n",
       "   'Caro',\n",
       "   'Chambea',\n",
       "   '200 MPH',\n",
       "   'Qué pretendes J Balvin & Bad Bunny',\n",
       "   'I Like It Cardi B',\n",
       "   'La canción J Balvin & Bad Bunny',\n",
       "   'Vete',\n",
       "   'No me conoce',\n",
       "   'MIA',\n",
       "   'Estamos bien',\n",
       "   'Solo de mí',\n",
       "   'Diles',\n",
       "   'Tenemos que hablar',\n",
       "   'Yo le llego J Balvin & Bad Bunny']}]"
      ]
     },
     "execution_count": 37,
     "metadata": {},
     "output_type": "execute_result"
    }
   ],
   "source": [
    "artist_setlist"
   ]
  },
  {
   "cell_type": "markdown",
   "metadata": {},
   "source": [
    "### Spotify"
   ]
  },
  {
   "cell_type": "code",
   "execution_count": 38,
   "metadata": {},
   "outputs": [],
   "source": [
    "username = 'adrialuz'\n",
    "scope = 'playlist-modify-public'\n",
    "\n",
    "token = spotipy.util.prompt_for_user_token(username, scope)\n",
    "\n",
    "sp = spotipy.Spotify(auth=token)\n",
    "\n",
    "sp.trace = False"
   ]
  },
  {
   "cell_type": "markdown",
   "metadata": {},
   "source": [
    "Get the URI codes for each track"
   ]
  },
  {
   "cell_type": "code",
   "execution_count": 39,
   "metadata": {},
   "outputs": [],
   "source": [
    "uris = []\n",
    "missing_songs = []\n",
    "\n",
    "for a in artist_setlist:\n",
    "    artist = a['artist']\n",
    "    setlist = a['setlist']\n",
    "    for s in setlist:\n",
    "        s = s.replace(',', '').replace('\\'', '').replace('\"', '').replace('.', '').replace(\n",
    "            '?', '').replace(')', '').replace('(', '').replace('/', '').replace(\n",
    "            '\\\\', '').replace('&', '').replace('-', '')\n",
    "        items = sp.search(q=f'artist:{artist} track:{s}', limit=1)['tracks']['items']\n",
    "        if items:\n",
    "            uri = items[0]['id']\n",
    "            uris.append(uri)\n",
    "        else:\n",
    "            items = sp.search(q=f'track:{s}', limit=1)['tracks']['items']\n",
    "            if items:\n",
    "                if items != [None]:\n",
    "                    uri = items[0]['id']\n",
    "                    uris.append(uri)\n",
    "            else:\n",
    "                missing_songs.append({\n",
    "                    'artist': artist,\n",
    "                    'song': s\n",
    "                })"
   ]
  },
  {
   "cell_type": "code",
   "execution_count": 40,
   "metadata": {},
   "outputs": [
    {
     "data": {
      "text/plain": [
       "147"
      ]
     },
     "execution_count": 40,
     "metadata": {},
     "output_type": "execute_result"
    }
   ],
   "source": [
    "len(uris)"
   ]
  },
  {
   "cell_type": "code",
   "execution_count": 41,
   "metadata": {},
   "outputs": [
    {
     "data": {
      "text/plain": [
       "3"
      ]
     },
     "execution_count": 41,
     "metadata": {},
     "output_type": "execute_result"
    }
   ],
   "source": [
    "len(missing_songs)"
   ]
  },
  {
   "cell_type": "code",
   "execution_count": 42,
   "metadata": {},
   "outputs": [
    {
     "data": {
      "text/plain": [
       "[{'artist': 'Young Thug', 'song': 'Killed Before Future  Young Thug'},\n",
       " {'artist': 'Tame Impala', 'song': 'Mutant Gossip'},\n",
       " {'artist': 'Charli XCX', 'song': 'Track 10  Blame It on Your Love'}]"
      ]
     },
     "execution_count": 42,
     "metadata": {},
     "output_type": "execute_result"
    }
   ],
   "source": [
    "missing_songs"
   ]
  },
  {
   "cell_type": "code",
   "execution_count": 43,
   "metadata": {},
   "outputs": [
    {
     "data": {
      "text/plain": [
       "73"
      ]
     },
     "execution_count": 43,
     "metadata": {},
     "output_type": "execute_result"
    }
   ],
   "source": [
    "divisor = int(np.floor(len(uris) / np.ceil(len(uris) / 100)))\n",
    "divisor"
   ]
  },
  {
   "cell_type": "code",
   "execution_count": 44,
   "metadata": {},
   "outputs": [
    {
     "data": {
      "text/plain": [
       "2"
      ]
     },
     "execution_count": 44,
     "metadata": {},
     "output_type": "execute_result"
    }
   ],
   "source": [
    "times = int(np.floor(len(uris) / divisor))\n",
    "times"
   ]
  },
  {
   "cell_type": "code",
   "execution_count": 45,
   "metadata": {},
   "outputs": [],
   "source": [
    "for i in range(times):\n",
    "    subset = uris[divisor*i:divisor*(i+1)]\n",
    "    sp.user_playlist_add_tracks(username, playlist_id='5sfuRJ3UgOv35RizTPycAC',\n",
    "                            tracks=subset)"
   ]
  }
 ],
 "metadata": {
  "kernelspec": {
   "display_name": "Python 3",
   "language": "python",
   "name": "python3"
  },
  "language_info": {
   "codemirror_mode": {
    "name": "ipython",
    "version": 3
   },
   "file_extension": ".py",
   "mimetype": "text/x-python",
   "name": "python",
   "nbconvert_exporter": "python",
   "pygments_lexer": "ipython3",
   "version": "3.7.4"
  },
  "toc": {
   "base_numbering": 1,
   "nav_menu": {},
   "number_sections": true,
   "sideBar": true,
   "skip_h1_title": false,
   "title_cell": "Table of Contents",
   "title_sidebar": "Contents",
   "toc_cell": false,
   "toc_position": {},
   "toc_section_display": true,
   "toc_window_display": true
  }
 },
 "nbformat": 4,
 "nbformat_minor": 2
}
