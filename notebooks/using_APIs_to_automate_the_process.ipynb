{
 "cells": [
  {
   "cell_type": "markdown",
   "metadata": {},
   "source": [
    "# Festival Playlists"
   ]
  },
  {
   "cell_type": "code",
   "execution_count": 1,
   "metadata": {},
   "outputs": [],
   "source": [
    "import os\n",
    "import numpy as np\n",
    "import pandas as pd\n",
    "import requests\n",
    "import json\n",
    "import spotipy\n",
    "from IPython.display import display"
   ]
  },
  {
   "cell_type": "markdown",
   "metadata": {},
   "source": [
    "1. Use the Songkick API to get all the bands playing the festival\n",
    "2. Use the Setlist.FM API to get the setlists\n",
    "3. Use the Spotify API to create the playlists and add all the songs"
   ]
  },
  {
   "cell_type": "markdown",
   "metadata": {},
   "source": [
    "### Set API credentials"
   ]
  },
  {
   "cell_type": "code",
   "execution_count": 2,
   "metadata": {},
   "outputs": [],
   "source": [
    "setlistfm_api_key = os.getenv('SETLISTFM_API_KEY')\n",
    "spotify_client_id = os.getenv('SPOTIFY_CLIENT_ID')\n",
    "spotify_client_secret = os.getenv('SPOTIFY_CLIENT_SECRET')"
   ]
  },
  {
   "cell_type": "markdown",
   "metadata": {},
   "source": [
    "### Setlist FM"
   ]
  },
  {
   "cell_type": "markdown",
   "metadata": {},
   "source": [
    "#### Plan of action\n",
    "1. Given a lineup (list of band names), get their Musicbrainz identifiers (`mbid`) via `https://api.setlist.fm/rest/1.0/search/artists`\n",
    "2. Retrieve the setlists for each artist using their `mbid` via `https://api.setlist.fm/rest/1.0/artist/{artist_mbid}/setlists\n",
    "`"
   ]
  },
  {
   "cell_type": "code",
   "execution_count": 15,
   "metadata": {},
   "outputs": [],
   "source": [
    "lineup = pd.read_csv(\n",
    "    '/Users/adrialuz/Desktop/repos/festival-playlists/data/PS2023.csv', header=None, names=['band'], encoding=\"ISO-8859-1\"\n",
    ")['band'].values"
   ]
  },
  {
   "cell_type": "code",
   "execution_count": 16,
   "metadata": {},
   "outputs": [
    {
     "data": {
      "text/plain": [
       "177"
      ]
     },
     "execution_count": 16,
     "metadata": {},
     "output_type": "execute_result"
    }
   ],
   "source": [
    "len(lineup)"
   ]
  },
  {
   "cell_type": "code",
   "execution_count": 17,
   "metadata": {},
   "outputs": [
    {
     "data": {
      "text/plain": [
       "array(['Pet Shop Boys', 'Confidence Man', 'Jake Bugg', 'La Paloma',\n",
       "       'Blur', 'New Order', 'Halsey', 'Darkside', 'Ghost', 'Le Tigre',\n",
       "       'NxWorries', 'Turnstile', 'Central Cee', 'Drain Gang',\n",
       "       'Loyle Carner', 'Pusha T', 'Rema', 'Alex G', 'Amenra',\n",
       "       'Arthur Verocai', 'Black Country New Road', 'Boris',\n",
       "       'Built To Spill', 'DJ Playero', 'Emeralds', 'Folamour',\n",
       "       'Hudson Mohawke', 'Machine Girl', 'Off', 'Perfume',\n",
       "       'Pinkpantheress', 'Red Velvet', 'Self Esteem', 'Sudan Archives',\n",
       "       'The Comet Is Coming', 'Yard Act', 'Antonim', 'Ascendant Vierge',\n",
       "       'Blackhaine', 'Brutalismus 3000', 'Cabiria', 'Chica Gang', 'Come',\n",
       "       'Flowerovlove', 'Heather', 'Heinali', 'Isabella Lovestory',\n",
       "       'Jana Rush', 'Joe Crepusculo', 'Joe Unknown', 'Julia Colom',\n",
       "       'Juliana Huxtable', 'Jasss', 'Karenn', 'Maral', 'Rhyw',\n",
       "       'Salamanda', 'Shannen', 'Joe Cotch', 'Slauson Malone 1',\n",
       "       'Terno Rei', 'Verraco', 'Kendrick Lamar', 'Depeche Mode',\n",
       "       'Baby Keem', 'Four Tet', 'Fred Again', 'Skrillex',\n",
       "       'The Moldy Peaches', 'Bad Religion', 'Bleachers',\n",
       "       'Christine and the Queens', 'Mora', 'Sparks', 'Alvvays',\n",
       "       'Avalon Emerson the Charm', 'Beak', 'Cavetown', 'Channel Tres',\n",
       "       'Daphni', 'Gabriels', 'Israel Fernandez y Diego del Morao',\n",
       "       'Japanese Breakfast', 'John Talabot', 'Julia Holter',\n",
       "       'Julia Jacklin', 'Karate', 'Kyary Pamyu Pamyu', 'Lebanon Hanover',\n",
       "       'Nation of Language', 'Shellac', 'Swans', 'Tems', 'The Delgados',\n",
       "       'Trueno', 'TSHA', 'Unwound', 'VTSS', 'LSDXOXO', 'Yves Tumor',\n",
       "       'Bala', 'Beth Orton', 'Bill Kouligas', 'Carlota Flaneur',\n",
       "       'Gigi FM', 'Honour', 'Los Hacheros', 'Low Jack x Lala Ce',\n",
       "       'Maddy Maia', 'Tottie', 'Nazire', 'NiÃ±a Coyote ETA Chico Tornado',\n",
       "       'Soul Glo', 'The Beths', 'The Soft Pink Truth',\n",
       "       'Tongue in the Mind', 'Tzusing', 'Upsammy', 'Velmondo',\n",
       "       'Voices from the Lake', 'Rosalia', 'Calvin Harris', 'FKA Twigs',\n",
       "       'Maneskin', 'St Vincent', 'The War on Drugs', 'Caroline Polachek',\n",
       "       'Charlotte de Witte', 'Maggie Rogers', 'My Morning Jacket',\n",
       "       'Tokischa', 'Arlo Parks', 'Death Grips', 'Domi JD Beck',\n",
       "       'Eddie Palmieri', 'Ezra Furman', 'Gilla Band', 'Holly Humberstone',\n",
       "       'Jayda G', 'Jockstrap', 'John Cale', 'JPEGMAFIA', 'Kelela',\n",
       "       'Laurie Anderson', 'Nia Archives', 'Overmono', 'Surf Curse',\n",
       "       'The Voidz', 'Two Shell', 'Yung Lean', 'Alissic', 'Anish Kumar',\n",
       "       'Bar Italia', 'Be Your Own Pet', 'CCL', 'Desert', 'DJ Coco',\n",
       "       'DJ Storm', 'Gaz Coombes', 'Grupo de Expertos Solynieve',\n",
       "       'James Ellis Ford', 'Josey Rebelle', 'Judeline', 'Los Ganglios',\n",
       "       'Mala', 'Nuria Graham', 'Om Unit', 'Oriana', 'Melina Serser',\n",
       "       'Pional', 'The Drift Institute', 'Twin', 'Ubaldo',\n",
       "       'Villano Antillano', 'Wednesday', 'Wooden Wisdom', 'DJ Fitz'],\n",
       "      dtype=object)"
      ]
     },
     "execution_count": 17,
     "metadata": {},
     "output_type": "execute_result"
    }
   ],
   "source": [
    "lineup"
   ]
  },
  {
   "cell_type": "code",
   "execution_count": 18,
   "metadata": {},
   "outputs": [],
   "source": [
    "artists_url = 'https://api.setlist.fm/rest/1.0/search/artists'"
   ]
  },
  {
   "cell_type": "code",
   "execution_count": 19,
   "metadata": {},
   "outputs": [
    {
     "name": "stdout",
     "output_type": "stream",
     "text": [
      "Couldn't find Antonim\n",
      "Couldn't find Chica Gang\n",
      "Couldn't find Julia Colom\n",
      "Couldn't find Slauson Malone 1\n",
      "Couldn't find Avalon Emerson the Charm\n",
      "Couldn't find Low Jack x Lala Ce\n",
      "Couldn't find NiÃ±a Coyote ETA Chico Tornado\n",
      "Couldn't find Tongue in the Mind\n",
      "Couldn't find James Ellis Ford\n",
      "Couldn't find Melina Serser\n",
      "Couldn't find The Drift Institute\n",
      "Couldn't find Wooden Wisdom\n"
     ]
    }
   ],
   "source": [
    "lineup_mbids = []\n",
    "not_found = []\n",
    "\n",
    "for name in lineup:\n",
    "    req = requests.get(artists_url,\n",
    "                       headers={'x-api-key': setlistfm_api_key, 'Accept': 'application/json'},\n",
    "                       params={'artistName': name, 'p': 1, 'sort': 'relevance'}\n",
    "    )\n",
    "    \n",
    "    i = 0\n",
    "    while (not req.ok) & (i <= 5):\n",
    "        req = requests.get(artists_url,\n",
    "                           headers={'x-api-key': setlistfm_api_key, 'Accept': 'application/json'},\n",
    "                           params={'artistName': name, 'p': 1, 'sort': 'relevance'}\n",
    "        )\n",
    "        i += 1\n",
    "    \n",
    "    if req.ok:\n",
    "        artist_response = req.json()['artist']\n",
    "        num_artists = len(artist_response)\n",
    "        if num_artists > 1:\n",
    "            for i in range(num_artists):\n",
    "                if artist_response[i]['name'].lower() == name.lower():\n",
    "                    mbid = artist_response[i]['mbid']\n",
    "                    lineup_mbids.append({'name': name, 'mbid': mbid})\n",
    "                    break\n",
    "        elif num_artists == 1:\n",
    "            mbid = artist_response[0]['mbid']\n",
    "            lineup_mbids.append({'name': name, 'mbid': mbid})\n",
    "        elif num_artists == 0:\n",
    "            print(f'No results I think for {name}')\n",
    "        else:\n",
    "            print(f'WTF {name}?')\n",
    "                    \n",
    "    else:\n",
    "        print(f'Couldn\\'t find {name}')\n",
    "        not_found.append(name)"
   ]
  },
  {
   "cell_type": "code",
   "execution_count": 20,
   "metadata": {},
   "outputs": [
    {
     "data": {
      "text/plain": [
       "[{'name': 'Pet Shop Boys', 'mbid': 'be540c02-7898-4b79-9acc-c8122c7d9e83'},\n",
       " {'name': 'Confidence Man', 'mbid': '9fab430a-f1af-4a69-bf68-6857a7a50a68'},\n",
       " {'name': 'Jake Bugg', 'mbid': '0d9905e6-add6-4713-94ca-9f686f9b5e9b'},\n",
       " {'name': 'La Paloma', 'mbid': 'a00f6bad-bbd6-463f-96ed-6f920ebbdd5c'},\n",
       " {'name': 'Blur', 'mbid': 'ba853904-ae25-4ebb-89d6-c44cfbd71bd2'},\n",
       " {'name': 'New Order', 'mbid': 'f1106b17-dcbb-45f6-b938-199ccfab50cc'},\n",
       " {'name': 'Halsey', 'mbid': '3377f3bb-60fc-4403-aea9-7e800612e060'},\n",
       " {'name': 'Darkside', 'mbid': '637684f9-8483-49a7-ac85-517a76e0344c'},\n",
       " {'name': 'Ghost', 'mbid': '2bcf2e02-5bc3-4c76-bf76-41126cb11444'},\n",
       " {'name': 'Le Tigre', 'mbid': '2d67239c-aa40-4ad5-a807-9052b66857a6'},\n",
       " {'name': 'NxWorries', 'mbid': '96c5c9a3-6c9b-41a7-90cc-e7375afbfde1'},\n",
       " {'name': 'Turnstile', 'mbid': '7b748dac-f5ce-45a7-9b95-c1d8b5b013ed'},\n",
       " {'name': 'Central Cee', 'mbid': 'b0337af1-8d93-4671-b6c9-ba306bf942bf'},\n",
       " {'name': 'Drain Gang', 'mbid': 'ad9114ca-c228-4f4c-bd86-84020dcf5a1f'},\n",
       " {'name': 'Loyle Carner', 'mbid': '09589937-20f0-40f8-a473-b22a0bac9ce5'},\n",
       " {'name': 'Pusha T', 'mbid': '14ecd19f-7121-4192-8549-e5056241a42f'},\n",
       " {'name': 'Rema', 'mbid': '720c46ba-a0e4-4b58-aee2-3bd70c70901f'},\n",
       " {'name': 'Alex G', 'mbid': '7df4c4de-3181-4a69-bd36-9d663970cebb'},\n",
       " {'name': 'Amenra', 'mbid': 'e7af1101-e51a-4eaf-ae2e-b4de760bd428'},\n",
       " {'name': 'Arthur Verocai', 'mbid': 'b236b897-8db4-4823-b28e-c211683254ac'},\n",
       " {'name': 'Black Country New Road',\n",
       "  'mbid': 'e9403d9c-329b-4108-a26f-564159d441d9'},\n",
       " {'name': 'Boris', 'mbid': '57652bf8-cfe8-42e7-b9a7-5572a7080d8d'},\n",
       " {'name': 'Built To Spill', 'mbid': '3ac482b8-1494-4071-a0e9-f192f9d2c2b0'},\n",
       " {'name': 'DJ Playero', 'mbid': '02e1f92b-9ac6-42cc-b758-a9f745b36193'},\n",
       " {'name': 'Emeralds', 'mbid': '4dcce447-0f64-4ea1-9d29-8448124a2fab'},\n",
       " {'name': 'Folamour', 'mbid': '6aa08af3-d00b-4de9-afa0-96aa1decad9e'},\n",
       " {'name': 'Hudson Mohawke', 'mbid': '3d403d44-36ce-465c-ad43-ae877e65adc4'},\n",
       " {'name': 'Machine Girl', 'mbid': 'c7df5ec5-380a-40f9-856f-28fb4a33d946'},\n",
       " {'name': 'Perfume', 'mbid': '486067ad-56d6-48b5-957b-d6cfe3e1af73'},\n",
       " {'name': 'Pinkpantheress', 'mbid': '7441014f-f8f5-494f-81db-ff166fbc078d'},\n",
       " {'name': 'Red Velvet', 'mbid': '4f0cb3b7-6c06-4317-ae35-ddf3106a17ee'},\n",
       " {'name': 'Self Esteem', 'mbid': '3a83d5ba-e243-4940-a755-3b700779665e'},\n",
       " {'name': 'Sudan Archives', 'mbid': '6ce5eca0-4ad6-49e0-a5ab-e11482d85324'},\n",
       " {'name': 'The Comet Is Coming',\n",
       "  'mbid': '2b82372f-8c85-4b47-a9fc-36fe4d4df5b4'},\n",
       " {'name': 'Yard Act', 'mbid': 'c69af97b-4d3b-4f72-9746-829b6b9d5f88'},\n",
       " {'name': 'Ascendant Vierge', 'mbid': '526ae1b5-6a34-4603-9f75-493c904c9478'},\n",
       " {'name': 'Blackhaine', 'mbid': 'c1151fbd-6cbc-4c8b-b286-235a1869e56a'},\n",
       " {'name': 'Brutalismus 3000', 'mbid': 'b4cd749e-adce-4cb5-8a73-cdd0c7e4b9cc'},\n",
       " {'name': 'Cabiria', 'mbid': 'cd407414-3877-4d89-ab8a-00832b7e3ff8'},\n",
       " {'name': 'Come', 'mbid': '74334464-8185-4a47-96b4-9a1c5be417b5'},\n",
       " {'name': 'Flowerovlove', 'mbid': 'cc082564-87b8-405c-97b0-7c2a8e84212a'},\n",
       " {'name': 'Heinali', 'mbid': 'cafc7b39-3dd9-41da-82cf-a1d01d481ede'},\n",
       " {'name': 'Isabella Lovestory',\n",
       "  'mbid': '663981c5-3908-4845-abf8-40a3f8edb0ac'},\n",
       " {'name': 'Jana Rush', 'mbid': '1ff4fd61-1a95-4c9a-892a-f87f4db3dc3d'},\n",
       " {'name': 'Joe Crepusculo', 'mbid': '807eef5b-4254-4d57-a0de-7557a8d64711'},\n",
       " {'name': 'Joe Unknown', 'mbid': 'dee6ad59-2087-4034-89c9-84e49728be5e'},\n",
       " {'name': 'Juliana Huxtable', 'mbid': '1f35dcc2-9035-485e-b8bd-4eb38c387cff'},\n",
       " {'name': 'Jasss', 'mbid': 'c06e766c-3d61-405f-9f82-0c9295cae1ee'},\n",
       " {'name': 'Karenn', 'mbid': 'b0911e1f-fa1f-44a7-b5bd-48747f084265'},\n",
       " {'name': 'Maral', 'mbid': 'a0a9a991-a22c-414b-b18a-d25857b1e1ed'},\n",
       " {'name': 'Rhyw', 'mbid': '0f9cd67c-1ca0-48d9-ace0-c66104daf6c3'},\n",
       " {'name': 'Salamanda', 'mbid': 'c18f3ccc-8e76-4f12-9c99-2e94b99f8027'},\n",
       " {'name': 'Joe Cotch', 'mbid': 'ddf7750c-a007-4a6c-a55e-d6e8d0a701e0'},\n",
       " {'name': 'Terno Rei', 'mbid': '6733a849-0e99-4a82-85ec-dc99b21f5474'},\n",
       " {'name': 'Verraco', 'mbid': 'b90042a5-bb35-431d-8ef2-eef1bd9e5591'},\n",
       " {'name': 'Kendrick Lamar', 'mbid': '381086ea-f511-4aba-bdf9-71c753dc5077'},\n",
       " {'name': 'Depeche Mode', 'mbid': '8538e728-ca0b-4321-b7e5-cff6565dd4c0'},\n",
       " {'name': 'Baby Keem', 'mbid': '81d12ca7-5b89-4d21-8736-860b7400b4eb'},\n",
       " {'name': 'Four Tet', 'mbid': '3bcff06f-675a-451f-9075-99e8657047e8'},\n",
       " {'name': 'Skrillex', 'mbid': 'ae002c5d-aac6-490b-a39a-30aa9e2edf2b'},\n",
       " {'name': 'The Moldy Peaches', 'mbid': '6830e150-6233-4255-ab97-6e2e38759637'},\n",
       " {'name': 'Bad Religion', 'mbid': '149e6720-4e4a-41a4-afca-6d29083fc091'},\n",
       " {'name': 'Bleachers', 'mbid': '58e235fc-f6ea-4614-9ed4-9855a5665ae1'},\n",
       " {'name': 'Christine and the Queens',\n",
       "  'mbid': '9c90ffbf-b137-4dee-bfcc-b8010787840d'},\n",
       " {'name': 'Mora', 'mbid': 'f85f6e24-192b-4fa0-9b38-0aff4a396302'},\n",
       " {'name': 'Sparks', 'mbid': 'f319b57a-a494-40f6-a467-3d196d3484e6'},\n",
       " {'name': 'Alvvays', 'mbid': '99450990-b24e-4132-bb68-235f8c3e2564'},\n",
       " {'name': 'Beak', 'mbid': '1ac4a875-e98a-4a45-a8dc-106157b80cf5'},\n",
       " {'name': 'Cavetown', 'mbid': '7999a8a1-6cbd-4453-8dd4-ebd03a10e44f'},\n",
       " {'name': 'Channel Tres', 'mbid': 'a9d53ca9-6c28-4be9-ab10-6c936a11d70b'},\n",
       " {'name': 'Daphni', 'mbid': '859216c4-5d01-479b-b6c3-e20cc591a86a'},\n",
       " {'name': 'Gabriels', 'mbid': 'c6bbc197-ce7b-48c7-8690-71a149073429'},\n",
       " {'name': 'Israel Fernandez y Diego del Morao',\n",
       "  'mbid': '69fead6b-bf14-4042-b6a6-52ab15922b08'},\n",
       " {'name': 'Japanese Breakfast',\n",
       "  'mbid': '8c529495-91f5-4e2f-b71b-adcb66878d04'},\n",
       " {'name': 'John Talabot', 'mbid': '9a2da736-57bd-4b0a-9d61-28712bbb7968'},\n",
       " {'name': 'Julia Holter', 'mbid': '45610c1f-41a4-44f1-9da6-227510073ffc'},\n",
       " {'name': 'Julia Jacklin', 'mbid': 'f95d0f4f-d344-4acd-bec8-cc512b40f629'},\n",
       " {'name': 'Karate', 'mbid': '7d942b74-f556-49c5-8987-067dc0488c90'},\n",
       " {'name': 'Kyary Pamyu Pamyu', 'mbid': '10e2d18c-7a8c-4d26-bb4a-450bb6851cb2'},\n",
       " {'name': 'Lebanon Hanover', 'mbid': '7de3b7b4-8288-4baf-929b-98af9224c0cb'},\n",
       " {'name': 'Nation of Language',\n",
       "  'mbid': '88927646-0c28-4b1b-a69e-cb33c400d650'},\n",
       " {'name': 'Shellac', 'mbid': '604f273a-d3c1-4b5b-ab83-99541f9368ea'},\n",
       " {'name': 'Swans', 'mbid': '3285dc48-9505-469d-ad8a-bdf2d3dba632'},\n",
       " {'name': 'Tems', 'mbid': '5b2a8faa-ffee-4706-a1a8-58f109bc8ca2'},\n",
       " {'name': 'The Delgados', 'mbid': 'd629843e-d2b9-4665-a203-19f9c7f811ef'},\n",
       " {'name': 'Trueno', 'mbid': 'db607377-aace-4a32-a439-373b7236df7e'},\n",
       " {'name': 'TSHA', 'mbid': '0e3ca88b-910e-4daa-97db-68f3722edd5f'},\n",
       " {'name': 'Unwound', 'mbid': '9434776a-bdd7-4f58-b719-b5d95b9d2a11'},\n",
       " {'name': 'VTSS', 'mbid': 'e64e570c-78b3-4483-a7db-aeb0929d87c4'},\n",
       " {'name': 'LSDXOXO', 'mbid': 'c2710100-a9e9-46e9-bae7-4677333cd0eb'},\n",
       " {'name': 'Yves Tumor', 'mbid': 'b675f327-4738-4af4-bb83-1adb0003f2d3'},\n",
       " {'name': 'Bala', 'mbid': 'dbc9f9a7-07ef-4618-ae1e-e58f56259b7b'},\n",
       " {'name': 'Beth Orton', 'mbid': '214d84a5-e9e5-4432-af95-8c84da7ba4c0'},\n",
       " {'name': 'Bill Kouligas', 'mbid': '5c421e10-13c6-4f5b-9c06-67f0b40c5986'},\n",
       " {'name': 'Carlota Flaneur', 'mbid': '653e1b20-17c0-4608-b3b2-a4952a5d74b4'},\n",
       " {'name': 'Gigi FM', 'mbid': 'e59755c5-3c3c-42fe-a5d8-b4a84e005733'},\n",
       " {'name': 'Honour', 'mbid': 'abf5bd09-4641-47e1-878c-dacd4e6bfab6'},\n",
       " {'name': 'Los Hacheros', 'mbid': 'fdd34505-ea28-4593-ad1b-978919ec29ae'},\n",
       " {'name': 'Maddy Maia', 'mbid': '94e2e600-1576-4cd8-b4dd-9bfb304ec2d1'},\n",
       " {'name': 'Tottie', 'mbid': '3d6e4c4a-c14e-46f0-b6bc-8378c878b59a'},\n",
       " {'name': 'Nazire', 'mbid': '2e57a655-f119-4e0e-933a-240fc01b7974'},\n",
       " {'name': 'Soul Glo', 'mbid': 'd10d6441-dcc1-4202-93bf-0c0acf72913a'},\n",
       " {'name': 'The Beths', 'mbid': '4c74fc48-8108-4556-87af-154af74f2ce5'},\n",
       " {'name': 'The Soft Pink Truth',\n",
       "  'mbid': 'fabe6510-9bb1-4a83-af11-3af75adc1389'},\n",
       " {'name': 'Tzusing', 'mbid': 'd3a4ba9c-9d70-4ae2-8c6c-2a114ec071b7'},\n",
       " {'name': 'Upsammy', 'mbid': '36124745-211c-446d-a51d-523742844d80'},\n",
       " {'name': 'Velmondo', 'mbid': '12fc92c5-525f-450d-9359-450c4537c6ee'},\n",
       " {'name': 'Voices from the Lake',\n",
       "  'mbid': '70ae57a5-c40c-493f-88de-99ae4bf46677'},\n",
       " {'name': 'Rosalia', 'mbid': '2ffc92fa-e51e-45ed-8a90-fa494aab50de'},\n",
       " {'name': 'Calvin Harris', 'mbid': '8dd98bdc-80ec-4e93-8509-2f46bafc09a7'},\n",
       " {'name': 'FKA Twigs', 'mbid': '1e4e9db7-5068-4a9c-bdd0-5777e47172c8'},\n",
       " {'name': 'The War on Drugs', 'mbid': '87b9b3b8-ab93-426c-a200-4012d667a626'},\n",
       " {'name': 'Caroline Polachek', 'mbid': 'd8f43dc5-4613-48ac-8c23-a62b82f8c67a'},\n",
       " {'name': 'Charlotte de Witte',\n",
       "  'mbid': '1de4e373-e597-4087-bf3d-256ec597749e'},\n",
       " {'name': 'Maggie Rogers', 'mbid': 'dde26295-8cd4-474c-8740-3edb801b2776'},\n",
       " {'name': 'My Morning Jacket', 'mbid': 'ea5883b7-68ce-48b3-b115-61746ea53b8c'},\n",
       " {'name': 'Tokischa', 'mbid': '269b7311-66c8-4a07-bcc2-e6b31c5627ec'},\n",
       " {'name': 'Arlo Parks', 'mbid': '6e8e3717-a62d-4a3f-886d-6a4e82507930'},\n",
       " {'name': 'Death Grips', 'mbid': 'f9133036-ab3d-4e97-bd11-7a2c98ad148a'},\n",
       " {'name': 'Eddie Palmieri', 'mbid': '42b5af45-312e-4dc1-ad0c-84dea2d5dcb2'},\n",
       " {'name': 'Ezra Furman', 'mbid': '45fc1a1c-6b33-4a2b-b517-d8bca372b7b0'},\n",
       " {'name': 'Gilla Band', 'mbid': '9018ba16-a391-4a08-af8c-21cdc52672c2'},\n",
       " {'name': 'Holly Humberstone', 'mbid': '736c8ea9-b5c3-4c5f-8782-28e633f0c084'},\n",
       " {'name': 'Jayda G', 'mbid': 'b6ba12ae-1304-46b3-b96b-9be22dbdab4a'},\n",
       " {'name': 'Jockstrap', 'mbid': '7230b2f8-96da-4242-8d57-2a8c1c3d71e4'},\n",
       " {'name': 'John Cale', 'mbid': '72c090b6-a68e-4cb9-b330-85278681a714'},\n",
       " {'name': 'JPEGMAFIA', 'mbid': 'c42e60f4-4520-4954-b6e4-82bbdf532c11'},\n",
       " {'name': 'Kelela', 'mbid': '045494aa-e913-4e62-bf4e-dcc276e0075a'},\n",
       " {'name': 'Laurie Anderson', 'mbid': '86809b51-cbe2-45f1-804a-e66eed635dea'},\n",
       " {'name': 'Nia Archives', 'mbid': '09d6b57e-9cd9-4a74-b7cb-842b8443a1cd'},\n",
       " {'name': 'Overmono', 'mbid': 'b841d0f2-0a2a-4cb2-a2d8-9895b7f90bfa'},\n",
       " {'name': 'Surf Curse', 'mbid': '89ea85c2-c90a-46ea-93db-9bed95d5c8f8'},\n",
       " {'name': 'The Voidz', 'mbid': '6a93cb2b-d33a-42fc-a41a-542e3a887ba6'},\n",
       " {'name': 'Two Shell', 'mbid': '704d24f8-257e-41a2-9816-6407993fe2c7'},\n",
       " {'name': 'Yung Lean', 'mbid': '757ed661-fbad-4e45-b1cd-a6b09f06f54a'},\n",
       " {'name': 'Alissic', 'mbid': '5f4e479d-8884-4644-9008-a62ff1de78f8'},\n",
       " {'name': 'Anish Kumar', 'mbid': '302802b4-67f6-4bb1-822b-1b133c83b9d0'},\n",
       " {'name': 'Bar Italia', 'mbid': 'fc6fe95d-ab24-44fd-a086-f33a505ad518'},\n",
       " {'name': 'Be Your Own Pet', 'mbid': '4849dbcf-4192-434c-825b-077c9057c119'},\n",
       " {'name': 'CCL', 'mbid': '21e1b9b2-f051-43f1-845e-480055621661'},\n",
       " {'name': 'Desert', 'mbid': '7148eb04-4a33-4412-ac19-36582b8e7f34'},\n",
       " {'name': 'DJ Coco', 'mbid': '79728d69-93f7-416d-b74c-bc37dd70ca75'},\n",
       " {'name': 'DJ Storm', 'mbid': 'e7ea5c77-c9f1-45be-82a4-570964b603b8'},\n",
       " {'name': 'Gaz Coombes', 'mbid': 'c05a93d1-c9c4-41f4-8493-f55858c8212d'},\n",
       " {'name': 'Grupo de Expertos Solynieve',\n",
       "  'mbid': 'ea847630-9c08-41ca-86f2-eeda86a2cd89'},\n",
       " {'name': 'Josey Rebelle', 'mbid': 'e53d8c5c-c1d1-4609-ae5c-388727094807'},\n",
       " {'name': 'Judeline', 'mbid': 'b828d419-2928-4286-9509-5d920d524358'},\n",
       " {'name': 'Los Ganglios', 'mbid': '09ed2ba8-675c-40d1-8113-966860cf1366'},\n",
       " {'name': 'Mala', 'mbid': '09f221eb-c97e-4da5-ac22-d7ab7c555bbb'},\n",
       " {'name': 'Nuria Graham', 'mbid': 'f7a4214e-7e8e-4e30-960b-27480ca04c9b'},\n",
       " {'name': 'Om Unit', 'mbid': '9be5414e-b906-4659-9c59-012ba7f7a154'},\n",
       " {'name': 'Oriana', 'mbid': '3f9b3d79-5862-4c70-8272-46e79417bd8f'},\n",
       " {'name': 'Pional', 'mbid': '7db4af7c-99bd-4d86-9315-5daa053ca0a5'},\n",
       " {'name': 'Twin', 'mbid': 'ddc357ac-f3cc-457e-bac8-eb55e9158f54'},\n",
       " {'name': 'Ubaldo', 'mbid': '4288e282-e786-4162-95c4-1f0c134a22f7'},\n",
       " {'name': 'Villano Antillano', 'mbid': 'f6707e26-2a9a-49af-8607-9f8c7f7c2dc9'},\n",
       " {'name': 'Wednesday', 'mbid': '9833b455-0da2-40b5-8e63-37816c910604'},\n",
       " {'name': 'DJ Fitz', 'mbid': 'ad6f3212-006f-44bc-8672-7b41bdbc5339'}]"
      ]
     },
     "execution_count": 20,
     "metadata": {},
     "output_type": "execute_result"
    }
   ],
   "source": [
    "lineup_mbids"
   ]
  },
  {
   "cell_type": "code",
   "execution_count": 21,
   "metadata": {},
   "outputs": [
    {
     "data": {
      "text/plain": [
       "['Antonim',\n",
       " 'Chica Gang',\n",
       " 'Julia Colom',\n",
       " 'Slauson Malone 1',\n",
       " 'Avalon Emerson the Charm',\n",
       " 'Low Jack x Lala Ce',\n",
       " 'NiÃ±a Coyote ETA Chico Tornado',\n",
       " 'Tongue in the Mind',\n",
       " 'James Ellis Ford',\n",
       " 'Melina Serser',\n",
       " 'The Drift Institute',\n",
       " 'Wooden Wisdom']"
      ]
     },
     "execution_count": 21,
     "metadata": {},
     "output_type": "execute_result"
    }
   ],
   "source": [
    "not_found"
   ]
  },
  {
   "cell_type": "code",
   "execution_count": 22,
   "metadata": {},
   "outputs": [
    {
     "name": "stderr",
     "output_type": "stream",
     "text": [
      "/var/folders/5g/z2_s3_7d75qgyjp72n_8q0p40000gq/T/ipykernel_55352/1942038417.py:42: DeprecationWarning: The default dtype for empty Series will be 'object' instead of 'float64' in a future version. Specify a dtype explicitly to silence this warning.\n",
      "  most_played_songs = list(pd.Series(songs_played).value_counts().head(15).index)\n"
     ]
    }
   ],
   "source": [
    "artist_setlist = []\n",
    "\n",
    "for a in lineup_mbids:\n",
    "    songs_played = []\n",
    "    mbid = a['mbid']\n",
    "    setlists_url = f'https://api.setlist.fm/rest/1.0/artist/{mbid}/setlists'\n",
    "    \n",
    "    req = requests.get(setlists_url,\n",
    "             headers={'x-api-key': setlistfm_api_key, 'Accept': 'application/json'},\n",
    "             params={'p': 1}\n",
    "    )\n",
    "    \n",
    "    i = 0\n",
    "    while (not req.ok) & (i <= 5):\n",
    "        req = requests.get(setlists_url,\n",
    "                 headers={'x-api-key': setlistfm_api_key, 'Accept': 'application/json'},\n",
    "                 params={'p': 1}\n",
    "        )\n",
    "        i += 1\n",
    "            \n",
    "    if req.ok:\n",
    "    \n",
    "        setlist_response = req.json()['setlist']\n",
    "        num_setlists = len(setlist_response)\n",
    "\n",
    "        for i in range(num_setlists):\n",
    "            setlist = setlist_response[i]['sets']['set']\n",
    "            num_sections = len(setlist)\n",
    "            total_songs = []\n",
    "            for p in range(num_sections):\n",
    "                total_songs += setlist[p]['song']\n",
    "            num_songs = len(total_songs)\n",
    "\n",
    "            for i in range(num_songs):\n",
    "                song = total_songs[i]\n",
    "                song_title = song['name']\n",
    "                # if the song is a cover add the original artist to the song title\n",
    "                if 'cover' in song:\n",
    "                    song_title += ' {}'.format(song['cover']['name'])\n",
    "                songs_played.append(song_title)\n",
    "                                           \n",
    "        most_played_songs = list(pd.Series(songs_played).value_counts().head(15).index)\n",
    "\n",
    "        artist_setlist.append({\n",
    "            'artist': a['name'],\n",
    "            'setlist': most_played_songs\n",
    "        })\n",
    "    else:\n",
    "        not_found.append(a['name'])"
   ]
  },
  {
   "cell_type": "code",
   "execution_count": 23,
   "metadata": {},
   "outputs": [
    {
     "data": {
      "text/plain": [
       "['Antonim',\n",
       " 'Chica Gang',\n",
       " 'Julia Colom',\n",
       " 'Slauson Malone 1',\n",
       " 'Avalon Emerson the Charm',\n",
       " 'Low Jack x Lala Ce',\n",
       " 'NiÃ±a Coyote ETA Chico Tornado',\n",
       " 'Tongue in the Mind',\n",
       " 'James Ellis Ford',\n",
       " 'Melina Serser',\n",
       " 'The Drift Institute',\n",
       " 'Wooden Wisdom',\n",
       " 'La Paloma',\n",
       " 'Rhyw',\n",
       " 'Joe Cotch',\n",
       " 'Israel Fernandez y Diego del Morao',\n",
       " 'Carlota Flaneur',\n",
       " 'Honour',\n",
       " 'Los Hacheros',\n",
       " 'Maddy Maia',\n",
       " 'Nazire',\n",
       " 'Velmondo',\n",
       " 'Rosalia']"
      ]
     },
     "execution_count": 23,
     "metadata": {},
     "output_type": "execute_result"
    }
   ],
   "source": [
    "not_found"
   ]
  },
  {
   "cell_type": "code",
   "execution_count": 24,
   "metadata": {},
   "outputs": [
    {
     "data": {
      "text/plain": [
       "[{'artist': 'Pet Shop Boys',\n",
       "  'setlist': ['Suburbia',\n",
       "   'You Were Always on My Mind Gwen McCrae',\n",
       "   'Being Boring',\n",
       "   'West End Girls',\n",
       "   \"It's a Sin\",\n",
       "   'Vocal',\n",
       "   'Can You Forgive Her?',\n",
       "   'Heart',\n",
       "   'Dreamland',\n",
       "   \"It's Alright Sterling Void\",\n",
       "   \"Opportunities (Let's Make Lots of Money)\",\n",
       "   'So Hard',\n",
       "   'Love Comes Quickly',\n",
       "   \"Where the Streets Have No Name (I Can't Take My Eyes Off You)\",\n",
       "   \"I Don't Know What You Want but I Can't Give It Any More\"]},\n",
       " {'artist': 'Confidence Man',\n",
       "  'setlist': ['Toy Boy',\n",
       "   'Luvin U Is Easy',\n",
       "   'Holiday',\n",
       "   'Boyfriend (Repeat)',\n",
       "   \"Don't You Know I'm in a Band\",\n",
       "   'Relieve the Pressure',\n",
       "   'Out the Window',\n",
       "   'Trumpet Song',\n",
       "   'C.O.O.L Party',\n",
       "   'Feels Like a Different Thing',\n",
       "   'Flute Song',\n",
       "   'Break It Bought It',\n",
       "   'Does It Make You Feel Good?',\n",
       "   'What I Like',\n",
       "   'Woman']},\n",
       " {'artist': 'Jake Bugg',\n",
       "  'setlist': ['Lightning Bolt',\n",
       "   'All I Need',\n",
       "   'Two Fingers',\n",
       "   'Seen It All',\n",
       "   'Simple as This',\n",
       "   'Slumville Sunrise',\n",
       "   'Screaming',\n",
       "   'Kiss Like the Sun',\n",
       "   'Lost',\n",
       "   'About Last Night',\n",
       "   \"What Doesn't Kill You\",\n",
       "   'Broken',\n",
       "   'Lonely Hours',\n",
       "   'Simple Pleasures',\n",
       "   'Hold Tight']},\n",
       " {'artist': 'Blur',\n",
       "  'setlist': ['Song 2',\n",
       "   'Tender',\n",
       "   'This Is a Low',\n",
       "   'Parklife',\n",
       "   'The Universal',\n",
       "   'Go Out',\n",
       "   \"There's No Other Way\",\n",
       "   'Lonesome Street',\n",
       "   'Girls & Boys',\n",
       "   'Coffee & TV',\n",
       "   'Beetlebum',\n",
       "   'To the End',\n",
       "   'Trimm Trabb',\n",
       "   'Thought I Was a Spaceman',\n",
       "   'Out of Time']},\n",
       " {'artist': 'New Order',\n",
       "  'setlist': ['Bizarre Love Triangle',\n",
       "   'Temptation',\n",
       "   'Age of Consent',\n",
       "   'Your Silent Face',\n",
       "   'Love Will Tear Us Apart Joy Division',\n",
       "   'True Faith',\n",
       "   'Blue Monday',\n",
       "   'Plastic',\n",
       "   'Regret',\n",
       "   'Ceremony',\n",
       "   'Sub-culture',\n",
       "   'The Perfect Kiss',\n",
       "   'Be a Rebel',\n",
       "   'Das Rheingold: Vorspiel Richard Wagner',\n",
       "   'Transmission Joy Division']}]"
      ]
     },
     "execution_count": 24,
     "metadata": {},
     "output_type": "execute_result"
    }
   ],
   "source": [
    "artist_setlist[:5]"
   ]
  },
  {
   "cell_type": "code",
   "execution_count": 25,
   "metadata": {},
   "outputs": [],
   "source": [
    "setlist_lengths = []\n",
    "short_or_empty_setlist = []\n",
    "\n",
    "for i in range(len(artist_setlist)):\n",
    "    n_songs = len(artist_setlist[i]['setlist'])\n",
    "    setlist_lengths.append({\n",
    "        'artist': artist_setlist[i]['artist'],\n",
    "        'n_songs': n_songs\n",
    "    })\n",
    "    \n",
    "    if n_songs < 5:\n",
    "        short_or_empty_setlist.append(artist_setlist[i]['artist'])"
   ]
  },
  {
   "cell_type": "code",
   "execution_count": 26,
   "metadata": {},
   "outputs": [
    {
     "data": {
      "text/plain": [
       "43"
      ]
     },
     "execution_count": 26,
     "metadata": {},
     "output_type": "execute_result"
    }
   ],
   "source": [
    "len(short_or_empty_setlist)"
   ]
  },
  {
   "cell_type": "code",
   "execution_count": 27,
   "metadata": {},
   "outputs": [
    {
     "data": {
      "text/plain": [
       "['NxWorries',\n",
       " 'DJ Playero',\n",
       " 'Emeralds',\n",
       " 'Folamour',\n",
       " 'Hudson Mohawke',\n",
       " 'Blackhaine',\n",
       " 'Brutalismus 3000',\n",
       " 'Flowerovlove',\n",
       " 'Heinali',\n",
       " 'Isabella Lovestory',\n",
       " 'Jana Rush',\n",
       " 'Joe Unknown',\n",
       " 'Juliana Huxtable',\n",
       " 'Jasss',\n",
       " 'Karenn',\n",
       " 'Maral',\n",
       " 'Salamanda',\n",
       " 'Verraco',\n",
       " 'Beak',\n",
       " 'Daphni',\n",
       " 'John Talabot',\n",
       " 'TSHA',\n",
       " 'VTSS',\n",
       " 'LSDXOXO',\n",
       " 'Bill Kouligas',\n",
       " 'Gigi FM',\n",
       " 'Tottie',\n",
       " 'The Soft Pink Truth',\n",
       " 'Upsammy',\n",
       " 'Charlotte de Witte',\n",
       " 'Eddie Palmieri',\n",
       " 'Jayda G',\n",
       " 'Nia Archives',\n",
       " 'Two Shell',\n",
       " 'Anish Kumar',\n",
       " 'CCL',\n",
       " 'DJ Storm',\n",
       " 'Josey Rebelle',\n",
       " 'Mala',\n",
       " 'Om Unit',\n",
       " 'Pional',\n",
       " 'Ubaldo',\n",
       " 'DJ Fitz']"
      ]
     },
     "execution_count": 27,
     "metadata": {},
     "output_type": "execute_result"
    }
   ],
   "source": [
    "short_or_empty_setlist"
   ]
  },
  {
   "cell_type": "markdown",
   "metadata": {},
   "source": [
    "### Spotify"
   ]
  },
  {
   "cell_type": "code",
   "execution_count": 28,
   "metadata": {},
   "outputs": [],
   "source": [
    "username = 'adrialuz'\n",
    "scope = 'playlist-modify-public'\n",
    "\n",
    "token = spotipy.util.prompt_for_user_token(username, scope, redirect_uri='http://localhost:9090')\n",
    "\n",
    "sp = spotipy.Spotify(auth=token)\n",
    "\n",
    "sp.trace = False"
   ]
  },
  {
   "cell_type": "code",
   "execution_count": 29,
   "metadata": {
    "scrolled": true
   },
   "outputs": [],
   "source": [
    "spotify_ids = []\n",
    "for a in short_or_empty_setlist:\n",
    "    search_result = sp.search(\n",
    "        f'artist:{a}', limit=5, type='artist', market='GB'\n",
    "    )['artists']['items']\n",
    "    \n",
    "    if search_result:\n",
    "        for i in range(len(search_result)):\n",
    "            name = search_result[i]['name']\n",
    "            if name.lower() == a.lower():\n",
    "                artist_id = search_result[i]['id']\n",
    "                spotify_ids.append(artist_id)\n",
    "                break\n",
    "            else:\n",
    "                pass\n",
    "    else:\n",
    "        print(f'Couldn\\'t find {a} on Spotify.')"
   ]
  },
  {
   "cell_type": "code",
   "execution_count": 30,
   "metadata": {},
   "outputs": [
    {
     "data": {
      "text/plain": [
       "['6PEMFpe3PTOksdV4ZXUpbE',\n",
       " '7HZ3dOfMWYvts1LC9fJq44',\n",
       " '45btnwhUWFlR7Op5oTfDPv',\n",
       " '6pJY5At9SiMpAOBrw9YosS',\n",
       " '6olWbKW2VLhFCHfOi0iEDb']"
      ]
     },
     "execution_count": 30,
     "metadata": {},
     "output_type": "execute_result"
    }
   ],
   "source": [
    "spotify_ids[:5]"
   ]
  },
  {
   "cell_type": "code",
   "execution_count": 31,
   "metadata": {},
   "outputs": [
    {
     "data": {
      "text/plain": [
       "'Special Request'"
      ]
     },
     "execution_count": 31,
     "metadata": {},
     "output_type": "execute_result"
    }
   ],
   "source": [
    "sp.artist('59xdAObFYuaKO2phzzz07H')['name']"
   ]
  },
  {
   "cell_type": "code",
   "execution_count": 32,
   "metadata": {},
   "outputs": [
    {
     "name": "stdout",
     "output_type": "stream",
     "text": [
      "7HZ3dOfMWYvts1LC9fJq44 DJ Playero\n"
     ]
    }
   ],
   "source": [
    "popular_songs = []\n",
    "\n",
    "for artist_id in spotify_ids:\n",
    "    search_results = sp.artist_top_tracks(artist_id, country='GB')['tracks']\n",
    "\n",
    "    top_songs = []\n",
    "    if search_results:\n",
    "        for i in range(len(search_results)):\n",
    "            song_name = search_results[i]['name']\n",
    "            top_songs.append(song_name)\n",
    "        popular_songs.append({\n",
    "            'artist': sp.artist(artist_id)['name'],\n",
    "            'setlist': top_songs\n",
    "        })\n",
    "    else:\n",
    "        print(artist_id, sp.artist(artist_id)['name'])"
   ]
  },
  {
   "cell_type": "code",
   "execution_count": 33,
   "metadata": {},
   "outputs": [
    {
     "data": {
      "text/plain": [
       "[{'artist': 'NxWorries',\n",
       "  'setlist': ['Where I Go (feat. H.E.R.)',\n",
       "   'Suede',\n",
       "   'itkanbe[sonice]',\n",
       "   'What More Can I Say',\n",
       "   'Lyk Dis',\n",
       "   'Another Time',\n",
       "   'Wngs',\n",
       "   'Scared Money',\n",
       "   'Get Bigger / Do U Luv',\n",
       "   'Droogs']},\n",
       " {'artist': 'Emeralds',\n",
       "  'setlist': ['Goes By',\n",
       "   'Candy Shoppe',\n",
       "   'Magic',\n",
       "   'The Cycle Of Abuse',\n",
       "   'Nereus (Spirits Over the Lake)',\n",
       "   'Now You See Me',\n",
       "   'Photosphere',\n",
       "   'Double Helix',\n",
       "   'Genetic',\n",
       "   'The Quaking Mess']},\n",
       " {'artist': 'Folamour',\n",
       "  'setlist': ['Freedom',\n",
       "   'These Are Just Places To Me Now',\n",
       "   'Ya Just Need 2 Believe in Yaself',\n",
       "   'Petit Prince Du Macadam',\n",
       "   'When U Came into My Life',\n",
       "   'Friends (feat. Tim Ayre)',\n",
       "   'I Miss Having Someone To Talk To',\n",
       "   'Alive',\n",
       "   'After Winter Must Come Spring feat. Elbi',\n",
       "   'Devoted To U']},\n",
       " {'artist': 'Hudson Mohawke',\n",
       "  'setlist': ['Cbat',\n",
       "   'VSOD - Velvet Sky of Dreams',\n",
       "   'Chimes',\n",
       "   'Helium - Hudson Mohawke Remix',\n",
       "   'Is It Supposed',\n",
       "   'Bicstan',\n",
       "   'Watch Dogs Theme',\n",
       "   'Play N Go',\n",
       "   'FUSE',\n",
       "   'Intentions']},\n",
       " {'artist': 'Blackhaine',\n",
       "  'setlist': ['Stained Materials',\n",
       "   'Prayer',\n",
       "   'SLKBLKH FREESTYLE',\n",
       "   'Armour Freestyle',\n",
       "   'Pavements',\n",
       "   'Stained Materials - Edit',\n",
       "   'Hotel',\n",
       "   'Black Lights on the M6',\n",
       "   'Blackpool',\n",
       "   'Faith']}]"
      ]
     },
     "execution_count": 33,
     "metadata": {},
     "output_type": "execute_result"
    }
   ],
   "source": [
    "popular_songs[:5]"
   ]
  },
  {
   "cell_type": "markdown",
   "metadata": {},
   "source": [
    "Get the URI codes for each track"
   ]
  },
  {
   "cell_type": "code",
   "execution_count": 35,
   "metadata": {},
   "outputs": [],
   "source": [
    "uris = []\n",
    "missing_songs = []\n",
    "\n",
    "for a in (artist_setlist + popular_songs):\n",
    "    artist = a['artist']\n",
    "    setlist = a['setlist']\n",
    "    for s in setlist:\n",
    "        s = s.replace(',', '').replace('\\'', '').replace('\"', '').replace('.', '').replace(\n",
    "            '?', '').replace(')', '').replace('(', '').replace('/', '').replace(\n",
    "            '\\\\', '').replace('&', '').replace('-', '')\n",
    "        items = sp.search(q=f'artist:{artist} track:{s}', limit=1)['tracks']['items']\n",
    "        if items:\n",
    "            uri = items[0]['id']\n",
    "            uris.append(uri)\n",
    "        else:\n",
    "            items = sp.search(q=f'track:{s}', limit=1)['tracks']['items']\n",
    "            if items:\n",
    "                if items != [None]:\n",
    "                    uri = items[0]['id']\n",
    "                    uris.append(uri)\n",
    "            else:\n",
    "                missing_songs.append({\n",
    "                    'artist': artist,\n",
    "                    'song': s\n",
    "                })"
   ]
  },
  {
   "cell_type": "code",
   "execution_count": 36,
   "metadata": {},
   "outputs": [
    {
     "data": {
      "text/plain": [
       "1837"
      ]
     },
     "execution_count": 36,
     "metadata": {},
     "output_type": "execute_result"
    }
   ],
   "source": [
    "len(uris)"
   ]
  },
  {
   "cell_type": "code",
   "execution_count": 37,
   "metadata": {},
   "outputs": [
    {
     "data": {
      "text/plain": [
       "43"
      ]
     },
     "execution_count": 37,
     "metadata": {},
     "output_type": "execute_result"
    }
   ],
   "source": [
    "len(missing_songs)"
   ]
  },
  {
   "cell_type": "code",
   "execution_count": 38,
   "metadata": {},
   "outputs": [
    {
     "data": {
      "text/plain": [
       "[{'artist': 'Halsey', 'song': '1121  Die for Me'},\n",
       " {'artist': 'Darkside', 'song': 'The Only Shrine Ive Ever Seen'},\n",
       " {'artist': 'Turnstile', 'song': 'TLC TURNSTILE LOVE CONNECTION'},\n",
       " {'artist': 'Drain Gang', 'song': 'Girls Just Wanna Have Fun Bladee  ECCO2K'},\n",
       " {'artist': 'Amenra', 'song': 'Thurifer et Clamor ad te Veniat'},\n",
       " {'artist': 'Black Country New Road', 'song': 'TurbinesPigs'},\n",
       " {'artist': 'Boris', 'song': 'Fundamental Error Gudon'},\n",
       " {'artist': 'Boris', 'song': 'Kiki no Ue'},\n",
       " {'artist': 'Boris', 'song': 'HxCxHxC Perforation Line'},\n",
       " {'artist': 'Machine Girl', 'song': 'Global Fandemic Track 2 Because You Can'},\n",
       " {'artist': 'Perfume', 'song': 'Mawaru Kagami'},\n",
       " {'artist': 'Perfume', 'song': 'Sayonara Plastic World'},\n",
       " {'artist': 'Perfume', 'song': 'Hatenabito'},\n",
       " {'artist': 'The Comet Is Coming', 'song': 'Shabaka Hutchings Sax Solo'},\n",
       " {'artist': 'Cabiria', 'song': 'DISCOCAFÉ'},\n",
       " {'artist': 'Karenn', 'song': 'Live Set  Wall of Sound ADE 2017'},\n",
       " {'artist': 'The Moldy Peaches', 'song': 'These Burgers  I Forgot'},\n",
       " {'artist': 'Gabriels', 'song': 'Professional  the way we were'},\n",
       " {'artist': 'Kyary Pamyu Pamyu', 'song': 'DEBAYASHI 2021'},\n",
       " {'artist': 'Tzusing', 'song': 'Burn It Black Merlin'},\n",
       " {'artist': 'Tzusing', 'song': 'ID Jeremiah Meece'},\n",
       " {'artist': 'Tzusing', 'song': 'Scurvy Fishermen'},\n",
       " {'artist': 'Tzusing', 'song': 'Psyko Bath Fishermen'},\n",
       " {'artist': 'Voices from the Lake', 'song': 'Manuvex'},\n",
       " {'artist': 'Voices from the Lake', 'song': 'ST VTFL Rework'},\n",
       " {'artist': 'Voices from the Lake', 'song': 'Twins In Virgo Reprise'},\n",
       " {'artist': 'Tokischa', 'song': 'Tunkutazo'},\n",
       " {'artist': 'Arlo Parks', 'song': 'YOURE THE ONE KAYTRANADA feat Syd'},\n",
       " {'artist': 'Death Grips', 'song': 'Steroids Track C'},\n",
       " {'artist': 'Ezra Furman', 'song': 'MaraschinoRed Dress $899 at Goodwill'},\n",
       " {'artist': 'JPEGMAFIA', 'song': 'I Cannot Fucking Wait Until Morrissey Dies'},\n",
       " {'artist': 'Laurie Anderson', 'song': 'Quanjing Jieyao Pian'},\n",
       " {'artist': 'Laurie Anderson', 'song': 'Songs from the Bardo'},\n",
       " {'artist': 'Laurie Anderson',\n",
       "  'song': 'We Just Dont Know Where This Is Going Its So Easy to Fall in Love'},\n",
       " {'artist': 'DJ Coco', 'song': 'Kelly ClarksonSince youve been gone'},\n",
       " {'artist': 'Grupo de Expertos Solynieve',\n",
       "  'song': 'La balada de buscando mi destino The Byrds'},\n",
       " {'artist': 'Wednesday', 'song': 'BullBeliever'},\n",
       " {'artist': 'Wednesday', 'song': 'Hot Rotten Grass Smell'},\n",
       " {'artist': 'Maral', 'song': 'AvazeDel'},\n",
       " {'artist': 'Daphni', 'song': 'CosBerZam Ne Noya  Daphni Mix'},\n",
       " {'artist': 'Jayda G', 'song': 'AntiHero  Jayda G Remix'},\n",
       " {'artist': 'Jayda G', 'song': 'All I Need DJKicks  Edit'},\n",
       " {'artist': 'Ubaldo',\n",
       "  'song': 'setcents trentaun fragments  sapaga la necessitat salbutamol era'}]"
      ]
     },
     "execution_count": 38,
     "metadata": {},
     "output_type": "execute_result"
    }
   ],
   "source": [
    "missing_songs"
   ]
  },
  {
   "cell_type": "code",
   "execution_count": 39,
   "metadata": {},
   "outputs": [],
   "source": [
    "divisor = int(np.floor(len(uris) / np.ceil(len(uris) / 100)))\n",
    "times = int(np.floor(len(uris) / divisor))"
   ]
  },
  {
   "cell_type": "code",
   "execution_count": 41,
   "metadata": {},
   "outputs": [],
   "source": [
    "for i in range(times):\n",
    "    subset = uris[divisor*i:divisor*(i+1)]\n",
    "    sp.user_playlist_add_tracks(username, playlist_id='2rNEeCnxYeMCwLXSFCQvzH',\n",
    "                                tracks=subset)"
   ]
  }
 ],
 "metadata": {
  "kernelspec": {
   "display_name": "Python 3 (ipykernel)",
   "language": "python",
   "name": "python3"
  },
  "language_info": {
   "codemirror_mode": {
    "name": "ipython",
    "version": 3
   },
   "file_extension": ".py",
   "mimetype": "text/x-python",
   "name": "python",
   "nbconvert_exporter": "python",
   "pygments_lexer": "ipython3",
   "version": "3.9.7"
  },
  "toc": {
   "base_numbering": 1,
   "nav_menu": {},
   "number_sections": true,
   "sideBar": true,
   "skip_h1_title": true,
   "title_cell": "Table of Contents",
   "title_sidebar": "Contents",
   "toc_cell": false,
   "toc_position": {},
   "toc_section_display": true,
   "toc_window_display": true
  }
 },
 "nbformat": 4,
 "nbformat_minor": 4
}
