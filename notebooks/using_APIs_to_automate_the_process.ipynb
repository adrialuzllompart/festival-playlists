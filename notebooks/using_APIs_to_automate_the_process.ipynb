{
 "cells": [
  {
   "cell_type": "markdown",
   "metadata": {},
   "source": [
    "# Festival Playlists"
   ]
  },
  {
   "cell_type": "code",
   "execution_count": 1,
   "metadata": {},
   "outputs": [],
   "source": [
    "import os\n",
    "import numpy as np\n",
    "import pandas as pd\n",
    "import requests\n",
    "import json\n",
    "import spotipy\n",
    "from IPython.display import display"
   ]
  },
  {
   "cell_type": "markdown",
   "metadata": {},
   "source": [
    "1. Use the Songkick API to get all the bands playing the festival\n",
    "2. Use the Setlist.FM API to get the setlists\n",
    "3. Use the Spotify API to create the playlists and add all the songs"
   ]
  },
  {
   "cell_type": "markdown",
   "metadata": {},
   "source": [
    "### Set API credentials"
   ]
  },
  {
   "cell_type": "code",
   "execution_count": 2,
   "metadata": {},
   "outputs": [],
   "source": [
    "setlistfm_api_key = os.getenv('SETLISTFM_API_KEY')\n",
    "spotify_client_id = os.getenv('SPOTIFY_CLIENT_ID')\n",
    "spotify_client_secret = os.getenv('SPOTIFY_CLIENT_SECRET')"
   ]
  },
  {
   "cell_type": "markdown",
   "metadata": {},
   "source": [
    "### Setlist FM"
   ]
  },
  {
   "cell_type": "markdown",
   "metadata": {},
   "source": [
    "#### Plan of action\n",
    "1. Given a lineup (list of band names), get their Musicbrainz identifiers (`mbid`) via `https://api.setlist.fm/rest/1.0/search/artists`\n",
    "2. Retrieve the setlists for each artist using their `mbid` via `https://api.setlist.fm/rest/1.0/artist/{artist_mbid}/setlists\n",
    "`"
   ]
  },
  {
   "cell_type": "code",
   "execution_count": 3,
   "metadata": {},
   "outputs": [],
   "source": [
    "lineup = pd.read_csv(\n",
    "    '/Users/adrialuz/Desktop/repos/festival-playlists/data/Glasto2023.csv', header=None, names=['band'], encoding=\"ISO-8859-1\"\n",
    ")['band'].values"
   ]
  },
  {
   "cell_type": "code",
   "execution_count": 4,
   "metadata": {},
   "outputs": [
    {
     "data": {
      "text/plain": [
       "38"
      ]
     },
     "execution_count": 4,
     "metadata": {},
     "output_type": "execute_result"
    }
   ],
   "source": [
    "len(lineup)"
   ]
  },
  {
   "cell_type": "code",
   "execution_count": 5,
   "metadata": {},
   "outputs": [
    {
     "data": {
      "text/plain": [
       "array(['The Hives', 'Yaya Bey', 'Los Bitchos', 'Unknown Mortal Orchestra',\n",
       "       'Gabriels', 'The Comet Is Coming', 'Joey Bada$$', 'Young Fathers',\n",
       "       'Fred Again', 'Arctic Monkeys', 'Hot Chip', 'Wunderhorse',\n",
       "       'Sudan Archives', 'The Murder Capital', 'Jockstrap', 'Shame',\n",
       "       'Ezra Collective', 'Flohio', 'Lizzo', 'Rina Sawayama',\n",
       "       'Lana Del Rey', 'Loyle Carner', 'Guns N Roses',\n",
       "       'Christine and the Queens', 'Japanese Breakfast', 'CMAT',\n",
       "       'Black Country New Road', 'Cat Stevens', 'Blondie', 'Viagra Boys',\n",
       "       'Lil Nas X', 'The War On Drugs', 'Caroline Polachek', 'Thundercat',\n",
       "       'Elton John', 'Queens of the Stone Age', 'Phoenix', 'Alt-J'],\n",
       "      dtype=object)"
      ]
     },
     "execution_count": 5,
     "metadata": {},
     "output_type": "execute_result"
    }
   ],
   "source": [
    "lineup"
   ]
  },
  {
   "cell_type": "code",
   "execution_count": 6,
   "metadata": {},
   "outputs": [],
   "source": [
    "artists_url = 'https://api.setlist.fm/rest/1.0/search/artists'"
   ]
  },
  {
   "cell_type": "code",
   "execution_count": 7,
   "metadata": {},
   "outputs": [],
   "source": [
    "lineup_mbids = []\n",
    "not_found = []\n",
    "\n",
    "for name in lineup:\n",
    "    req = requests.get(artists_url,\n",
    "                       headers={'x-api-key': setlistfm_api_key, 'Accept': 'application/json'},\n",
    "                       params={'artistName': name, 'p': 1, 'sort': 'relevance'}\n",
    "    )\n",
    "    \n",
    "    i = 0\n",
    "    while (not req.ok) & (i <= 5):\n",
    "        req = requests.get(artists_url,\n",
    "                           headers={'x-api-key': setlistfm_api_key, 'Accept': 'application/json'},\n",
    "                           params={'artistName': name, 'p': 1, 'sort': 'relevance'}\n",
    "        )\n",
    "        i += 1\n",
    "    \n",
    "    if req.ok:\n",
    "        artist_response = req.json()['artist']\n",
    "        num_artists = len(artist_response)\n",
    "        if num_artists > 1:\n",
    "            for i in range(num_artists):\n",
    "                if artist_response[i]['name'].lower() == name.lower():\n",
    "                    mbid = artist_response[i]['mbid']\n",
    "                    lineup_mbids.append({'name': name, 'mbid': mbid})\n",
    "                    break\n",
    "        elif num_artists == 1:\n",
    "            mbid = artist_response[0]['mbid']\n",
    "            lineup_mbids.append({'name': name, 'mbid': mbid})\n",
    "        elif num_artists == 0:\n",
    "            print(f'No results I think for {name}')\n",
    "        else:\n",
    "            print(f'WTF {name}?')\n",
    "                    \n",
    "    else:\n",
    "        print(f'Couldn\\'t find {name}')\n",
    "        not_found.append(name)"
   ]
  },
  {
   "cell_type": "code",
   "execution_count": 8,
   "metadata": {},
   "outputs": [
    {
     "data": {
      "text/plain": [
       "[{'name': 'The Hives', 'mbid': '487bfd74-71bf-46dd-b89c-80b7a0f06f2f'},\n",
       " {'name': 'Yaya Bey', 'mbid': 'f55859c9-0642-47dc-8c68-4aa2db484b23'},\n",
       " {'name': 'Los Bitchos', 'mbid': '685051dc-49ad-496a-acab-57ad1ad1e491'},\n",
       " {'name': 'Unknown Mortal Orchestra',\n",
       "  'mbid': 'e2305342-0bde-4a2c-aed0-4b88694834de'},\n",
       " {'name': 'Gabriels', 'mbid': 'c6bbc197-ce7b-48c7-8690-71a149073429'},\n",
       " {'name': 'The Comet Is Coming',\n",
       "  'mbid': '2b82372f-8c85-4b47-a9fc-36fe4d4df5b4'},\n",
       " {'name': 'Joey Bada$$', 'mbid': '9757ae7d-44b1-4d63-81ce-b463fe27b9ae'},\n",
       " {'name': 'Young Fathers', 'mbid': '24aa5c20-a275-468a-93a9-b3d96b344b6c'},\n",
       " {'name': 'Arctic Monkeys', 'mbid': 'ada7a83c-e3e1-40f1-93f9-3e73dbc9298a'},\n",
       " {'name': 'Hot Chip', 'mbid': 'd8915e13-d67a-4aa0-9c0b-1f126af951af'},\n",
       " {'name': 'Wunderhorse', 'mbid': '5126db33-86ad-469d-88fb-4158350e1515'},\n",
       " {'name': 'Sudan Archives', 'mbid': '6ce5eca0-4ad6-49e0-a5ab-e11482d85324'},\n",
       " {'name': 'The Murder Capital',\n",
       "  'mbid': '41e30723-07ab-40fd-8f6b-983981a76d8b'},\n",
       " {'name': 'Jockstrap', 'mbid': '7230b2f8-96da-4242-8d57-2a8c1c3d71e4'},\n",
       " {'name': 'Shame', 'mbid': '3294b9ce-0bef-4080-8ae8-95bad1abd71c'},\n",
       " {'name': 'Ezra Collective', 'mbid': 'd51acca9-a88b-4f5c-a2fe-f069de70ca1d'},\n",
       " {'name': 'Flohio', 'mbid': '0340c513-506a-4c50-a9a8-2132837a0c80'},\n",
       " {'name': 'Lizzo', 'mbid': '8fb5370b-9568-4b61-9da5-2aa12c9928db'},\n",
       " {'name': 'Rina Sawayama', 'mbid': '52494f9b-789d-4467-bcaf-9915e70cc8f6'},\n",
       " {'name': 'Lana Del Rey', 'mbid': 'b7539c32-53e7-4908-bda3-81449c367da6'},\n",
       " {'name': 'Loyle Carner', 'mbid': '09589937-20f0-40f8-a473-b22a0bac9ce5'},\n",
       " {'name': 'Christine and the Queens',\n",
       "  'mbid': '9c90ffbf-b137-4dee-bfcc-b8010787840d'},\n",
       " {'name': 'Japanese Breakfast',\n",
       "  'mbid': '8c529495-91f5-4e2f-b71b-adcb66878d04'},\n",
       " {'name': 'CMAT', 'mbid': '2ac533ad-f3ec-4083-a2d4-6f30393414b3'},\n",
       " {'name': 'Black Country New Road',\n",
       "  'mbid': 'e9403d9c-329b-4108-a26f-564159d441d9'},\n",
       " {'name': 'Cat Stevens', 'mbid': 'e2345fdf-2be7-47c5-a6dd-be64353ad134'},\n",
       " {'name': 'Blondie', 'mbid': '4d2956d1-a3f7-44bb-9a41-67563e1a0c94'},\n",
       " {'name': 'Viagra Boys', 'mbid': '9df0c0ec-619e-447d-a155-23e19d9c84ce'},\n",
       " {'name': 'Lil Nas X', 'mbid': '0b30341b-b59d-4979-8130-b66c0e475321'},\n",
       " {'name': 'The War On Drugs', 'mbid': '87b9b3b8-ab93-426c-a200-4012d667a626'},\n",
       " {'name': 'Caroline Polachek', 'mbid': 'd8f43dc5-4613-48ac-8c23-a62b82f8c67a'},\n",
       " {'name': 'Thundercat', 'mbid': '044fd265-79dd-43eb-afc4-8b20becf7e17'},\n",
       " {'name': 'Elton John', 'mbid': 'b83bc61f-8451-4a5d-8b8e-7e9ed295e822'},\n",
       " {'name': 'Queens of the Stone Age',\n",
       "  'mbid': '7dc8f5bd-9d0b-4087-9f73-dc164950bbd8'},\n",
       " {'name': 'Phoenix', 'mbid': '8d455809-96b3-4bb6-8829-ea4beb580d35'},\n",
       " {'name': 'Alt-J', 'mbid': 'fc7bbf00-fbaa-4736-986b-b3ac0266ca9b'}]"
      ]
     },
     "execution_count": 8,
     "metadata": {},
     "output_type": "execute_result"
    }
   ],
   "source": [
    "lineup_mbids"
   ]
  },
  {
   "cell_type": "code",
   "execution_count": 9,
   "metadata": {},
   "outputs": [
    {
     "data": {
      "text/plain": [
       "[]"
      ]
     },
     "execution_count": 9,
     "metadata": {},
     "output_type": "execute_result"
    }
   ],
   "source": [
    "not_found"
   ]
  },
  {
   "cell_type": "code",
   "execution_count": 10,
   "metadata": {},
   "outputs": [
    {
     "name": "stderr",
     "output_type": "stream",
     "text": [
      "/var/folders/5g/z2_s3_7d75qgyjp72n_8q0p40000gq/T/ipykernel_35717/1942038417.py:42: DeprecationWarning: The default dtype for empty Series will be 'object' instead of 'float64' in a future version. Specify a dtype explicitly to silence this warning.\n",
      "  most_played_songs = list(pd.Series(songs_played).value_counts().head(15).index)\n"
     ]
    }
   ],
   "source": [
    "artist_setlist = []\n",
    "\n",
    "for a in lineup_mbids:\n",
    "    songs_played = []\n",
    "    mbid = a['mbid']\n",
    "    setlists_url = f'https://api.setlist.fm/rest/1.0/artist/{mbid}/setlists'\n",
    "    \n",
    "    req = requests.get(setlists_url,\n",
    "             headers={'x-api-key': setlistfm_api_key, 'Accept': 'application/json'},\n",
    "             params={'p': 1}\n",
    "    )\n",
    "    \n",
    "    i = 0\n",
    "    while (not req.ok) & (i <= 5):\n",
    "        req = requests.get(setlists_url,\n",
    "                 headers={'x-api-key': setlistfm_api_key, 'Accept': 'application/json'},\n",
    "                 params={'p': 1}\n",
    "        )\n",
    "        i += 1\n",
    "            \n",
    "    if req.ok:\n",
    "    \n",
    "        setlist_response = req.json()['setlist']\n",
    "        num_setlists = len(setlist_response)\n",
    "\n",
    "        for i in range(num_setlists):\n",
    "            setlist = setlist_response[i]['sets']['set']\n",
    "            num_sections = len(setlist)\n",
    "            total_songs = []\n",
    "            for p in range(num_sections):\n",
    "                total_songs += setlist[p]['song']\n",
    "            num_songs = len(total_songs)\n",
    "\n",
    "            for i in range(num_songs):\n",
    "                song = total_songs[i]\n",
    "                song_title = song['name']\n",
    "                # if the song is a cover add the original artist to the song title\n",
    "                if 'cover' in song:\n",
    "                    song_title += ' {}'.format(song['cover']['name'])\n",
    "                songs_played.append(song_title)\n",
    "                                           \n",
    "        most_played_songs = list(pd.Series(songs_played).value_counts().head(15).index)\n",
    "\n",
    "        artist_setlist.append({\n",
    "            'artist': a['name'],\n",
    "            'setlist': most_played_songs\n",
    "        })\n",
    "    else:\n",
    "        not_found.append(a['name'])"
   ]
  },
  {
   "cell_type": "code",
   "execution_count": 11,
   "metadata": {},
   "outputs": [
    {
     "data": {
      "text/plain": [
       "[]"
      ]
     },
     "execution_count": 11,
     "metadata": {},
     "output_type": "execute_result"
    }
   ],
   "source": [
    "not_found"
   ]
  },
  {
   "cell_type": "code",
   "execution_count": 12,
   "metadata": {},
   "outputs": [
    {
     "data": {
      "text/plain": [
       "[{'artist': 'The Hives',\n",
       "  'setlist': ['Main Offender',\n",
       "   'Good Samaritan',\n",
       "   'Come On!',\n",
       "   'Tick Tick Boom',\n",
       "   'Walk Idiot Walk',\n",
       "   'Hate to Say I Told You So',\n",
       "   'Stick Up',\n",
       "   'Go Right Ahead',\n",
       "   \"I'm Alive\",\n",
       "   'Bogus Operandi',\n",
       "   'Countdown to Shutdown',\n",
       "   'Rigor Mortis Radio',\n",
       "   'Paint a Picture',\n",
       "   \"Won't Be Long\",\n",
       "   'Trapdoor Solution']},\n",
       " {'artist': 'Yaya Bey', 'setlist': []},\n",
       " {'artist': 'Los Bitchos',\n",
       "  'setlist': ['Good to Go!',\n",
       "   'Lindsay Goes to Mykonos',\n",
       "   'The Link Is About to Die',\n",
       "   'Tequila The Champs',\n",
       "   'Las panteras',\n",
       "   'Pista (Fresh Start)',\n",
       "   'Try the Circle!',\n",
       "   'HI!',\n",
       "   'Change of Heart',\n",
       "   '',\n",
       "   'La Bomba',\n",
       "   'Trapdoor King Gizzard & The Lizard Wizard',\n",
       "   'Tripping at a Party',\n",
       "   'Naughty Lil Irish Leaf',\n",
       "   'Tropico']},\n",
       " {'artist': 'Unknown Mortal Orchestra',\n",
       "  'setlist': ['The Garden',\n",
       "   'Nadja',\n",
       "   'Layla',\n",
       "   'Multi-Love',\n",
       "   'That Life',\n",
       "   'Hunnybee',\n",
       "   'Swim and Sleep (Like a Shark)',\n",
       "   \"Can't Keep Checking My Phone\",\n",
       "   'Meshuggah',\n",
       "   'Ministry of Alienation',\n",
       "   'Shakedown Street Grateful Dead',\n",
       "   'Necessary Evil / Monki',\n",
       "   'Like Acid Rain',\n",
       "   'Weekend Run',\n",
       "   'In the Rear View']},\n",
       " {'artist': 'Gabriels',\n",
       "  'setlist': ['Love and Hate in a Different Time',\n",
       "   'Great Wind',\n",
       "   'One and Only',\n",
       "   'Offering',\n",
       "   'Professional',\n",
       "   'To the Moon and Back',\n",
       "   'Bloodline',\n",
       "   'Blame',\n",
       "   'Taboo',\n",
       "   'Angels & Queens',\n",
       "   'The Blind',\n",
       "   '',\n",
       "   'Glory',\n",
       "   'Remember Me',\n",
       "   'Professional / the way we were']}]"
      ]
     },
     "execution_count": 12,
     "metadata": {},
     "output_type": "execute_result"
    }
   ],
   "source": [
    "artist_setlist[:5]"
   ]
  },
  {
   "cell_type": "code",
   "execution_count": 13,
   "metadata": {},
   "outputs": [],
   "source": [
    "setlist_lengths = []\n",
    "short_or_empty_setlist = []\n",
    "\n",
    "for i in range(len(artist_setlist)):\n",
    "    n_songs = len(artist_setlist[i]['setlist'])\n",
    "    setlist_lengths.append({\n",
    "        'artist': artist_setlist[i]['artist'],\n",
    "        'n_songs': n_songs\n",
    "    })\n",
    "    \n",
    "    if n_songs < 5:\n",
    "        short_or_empty_setlist.append(artist_setlist[i]['artist'])"
   ]
  },
  {
   "cell_type": "code",
   "execution_count": 14,
   "metadata": {},
   "outputs": [
    {
     "data": {
      "text/plain": [
       "1"
      ]
     },
     "execution_count": 14,
     "metadata": {},
     "output_type": "execute_result"
    }
   ],
   "source": [
    "len(short_or_empty_setlist)"
   ]
  },
  {
   "cell_type": "code",
   "execution_count": 15,
   "metadata": {},
   "outputs": [
    {
     "data": {
      "text/plain": [
       "['Yaya Bey']"
      ]
     },
     "execution_count": 15,
     "metadata": {},
     "output_type": "execute_result"
    }
   ],
   "source": [
    "short_or_empty_setlist"
   ]
  },
  {
   "cell_type": "markdown",
   "metadata": {},
   "source": [
    "### Spotify"
   ]
  },
  {
   "cell_type": "code",
   "execution_count": 16,
   "metadata": {},
   "outputs": [],
   "source": [
    "username = 'adrialuz'\n",
    "scope = 'playlist-modify-public'\n",
    "\n",
    "token = spotipy.util.prompt_for_user_token(username, scope, redirect_uri='http://localhost:9090')\n",
    "\n",
    "sp = spotipy.Spotify(auth=token)\n",
    "\n",
    "sp.trace = False"
   ]
  },
  {
   "cell_type": "code",
   "execution_count": 17,
   "metadata": {
    "scrolled": true
   },
   "outputs": [],
   "source": [
    "spotify_ids = []\n",
    "for a in short_or_empty_setlist:\n",
    "    search_result = sp.search(\n",
    "        f'artist:{a}', limit=5, type='artist', market='GB'\n",
    "    )['artists']['items']\n",
    "    \n",
    "    if search_result:\n",
    "        for i in range(len(search_result)):\n",
    "            name = search_result[i]['name']\n",
    "            if name.lower() == a.lower():\n",
    "                artist_id = search_result[i]['id']\n",
    "                spotify_ids.append(artist_id)\n",
    "                break\n",
    "            else:\n",
    "                pass\n",
    "    else:\n",
    "        print(f'Couldn\\'t find {a} on Spotify.')"
   ]
  },
  {
   "cell_type": "code",
   "execution_count": 18,
   "metadata": {},
   "outputs": [
    {
     "data": {
      "text/plain": [
       "['6tpaMMCs8X6o8j9H5OmWmT']"
      ]
     },
     "execution_count": 18,
     "metadata": {},
     "output_type": "execute_result"
    }
   ],
   "source": [
    "spotify_ids[:5]"
   ]
  },
  {
   "cell_type": "code",
   "execution_count": 19,
   "metadata": {},
   "outputs": [
    {
     "data": {
      "text/plain": [
       "'Special Request'"
      ]
     },
     "execution_count": 19,
     "metadata": {},
     "output_type": "execute_result"
    }
   ],
   "source": [
    "sp.artist('59xdAObFYuaKO2phzzz07H')['name']"
   ]
  },
  {
   "cell_type": "code",
   "execution_count": 20,
   "metadata": {},
   "outputs": [],
   "source": [
    "popular_songs = []\n",
    "\n",
    "for artist_id in spotify_ids:\n",
    "    search_results = sp.artist_top_tracks(artist_id, country='GB')['tracks']\n",
    "\n",
    "    top_songs = []\n",
    "    if search_results:\n",
    "        for i in range(len(search_results)):\n",
    "            song_name = search_results[i]['name']\n",
    "            top_songs.append(song_name)\n",
    "        popular_songs.append({\n",
    "            'artist': sp.artist(artist_id)['name'],\n",
    "            'setlist': top_songs\n",
    "        })\n",
    "    else:\n",
    "        print(artist_id, sp.artist(artist_id)['name'])"
   ]
  },
  {
   "cell_type": "code",
   "execution_count": 21,
   "metadata": {},
   "outputs": [
    {
     "data": {
      "text/plain": [
       "[{'artist': 'Yaya Bey',\n",
       "  'setlist': ['you up?',\n",
       "   'meet me in brooklyn',\n",
       "   'intro',\n",
       "   'pour up',\n",
       "   'september 13th',\n",
       "   'on the pisces moon',\n",
       "   'fxck it then',\n",
       "   'mama loves her son',\n",
       "   'ascendent (mother fxcker)',\n",
       "   'alright']}]"
      ]
     },
     "execution_count": 21,
     "metadata": {},
     "output_type": "execute_result"
    }
   ],
   "source": [
    "popular_songs[:5]"
   ]
  },
  {
   "cell_type": "markdown",
   "metadata": {},
   "source": [
    "Get the URI codes for each track"
   ]
  },
  {
   "cell_type": "code",
   "execution_count": 22,
   "metadata": {},
   "outputs": [],
   "source": [
    "uris = []\n",
    "missing_songs = []\n",
    "\n",
    "for a in (artist_setlist + popular_songs):\n",
    "    artist = a['artist']\n",
    "    setlist = a['setlist']\n",
    "    for s in setlist:\n",
    "        s = s.replace(',', '').replace('\\'', '').replace('\"', '').replace('.', '').replace(\n",
    "            '?', '').replace(')', '').replace('(', '').replace('/', '').replace(\n",
    "            '\\\\', '').replace('&', '').replace('-', '')\n",
    "        items = sp.search(q=f'artist:{artist} track:{s}', limit=1)['tracks']['items']\n",
    "        if items:\n",
    "            uri = items[0]['id']\n",
    "            uris.append(uri)\n",
    "        else:\n",
    "            items = sp.search(q=f'track:{s}', limit=1)['tracks']['items']\n",
    "            if items:\n",
    "                if items != [None]:\n",
    "                    uri = items[0]['id']\n",
    "                    uris.append(uri)\n",
    "            else:\n",
    "                missing_songs.append({\n",
    "                    'artist': artist,\n",
    "                    'song': s\n",
    "                })"
   ]
  },
  {
   "cell_type": "code",
   "execution_count": 24,
   "metadata": {},
   "outputs": [
    {
     "data": {
      "text/plain": [
       "506"
      ]
     },
     "execution_count": 24,
     "metadata": {},
     "output_type": "execute_result"
    }
   ],
   "source": [
    "len(uris)"
   ]
  },
  {
   "cell_type": "code",
   "execution_count": 25,
   "metadata": {},
   "outputs": [
    {
     "data": {
      "text/plain": [
       "21"
      ]
     },
     "execution_count": 25,
     "metadata": {},
     "output_type": "execute_result"
    }
   ],
   "source": [
    "len(missing_songs)"
   ]
  },
  {
   "cell_type": "code",
   "execution_count": 26,
   "metadata": {},
   "outputs": [
    {
     "data": {
      "text/plain": [
       "[{'artist': 'The Hives', 'song': 'Trapdoor Solution'},\n",
       " {'artist': 'Los Bitchos', 'song': 'Naughty Lil Irish Leaf'},\n",
       " {'artist': 'Unknown Mortal Orchestra', 'song': 'Necessary Evil  Monki'},\n",
       " {'artist': 'Gabriels', 'song': 'Professional  the way we were'},\n",
       " {'artist': 'The Comet Is Coming', 'song': 'Shabaka Hutchings Sax Solo'},\n",
       " {'artist': 'Hot Chip', 'song': 'FreakoutRelease'},\n",
       " {'artist': 'Wunderhorse', 'song': 'Oprah Winfrey Is This Love'},\n",
       " {'artist': 'Lana Del Rey',\n",
       "  'song': 'Change  Black Beauty  Young and Beautiful  Ride'},\n",
       " {'artist': 'CMAT', 'song': 'Where Are Your Kids Tonight'},\n",
       " {'artist': 'Black Country New Road', 'song': 'Nancy Tries to Take the Night'},\n",
       " {'artist': 'Black Country New Road', 'song': 'TurbinesPigs'},\n",
       " {'artist': 'Black Country New Road', 'song': '247 365 British Summer Time'},\n",
       " {'artist': 'Cat Stevens', 'song': 'SunC79'},\n",
       " {'artist': 'Blondie', 'song': 'Hanging on the Telephone The Nerves'},\n",
       " {'artist': 'Lil Nas X', 'song': 'Down Souf Hoes'},\n",
       " {'artist': 'Thundercat', 'song': 'Great Scott  Innerstellar Love'},\n",
       " {'artist': 'Thundercat', 'song': 'Lost in Space  Great Scott  2226'},\n",
       " {'artist': 'Thundercat', 'song': '3AM  Existential Dread'},\n",
       " {'artist': 'Elton John', 'song': 'Funeral for a FriendLove Lies Bleeding'},\n",
       " {'artist': 'Phoenix', 'song': 'If I Ever Feel Better  Funky Squaredance'},\n",
       " {'artist': 'Phoenix', 'song': 'Trying to Be Cool  Drakkar Noir'}]"
      ]
     },
     "execution_count": 26,
     "metadata": {},
     "output_type": "execute_result"
    }
   ],
   "source": [
    "missing_songs"
   ]
  },
  {
   "cell_type": "code",
   "execution_count": 27,
   "metadata": {},
   "outputs": [],
   "source": [
    "divisor = int(np.floor(len(uris) / np.ceil(len(uris) / 100)))\n",
    "times = int(np.floor(len(uris) / divisor))"
   ]
  },
  {
   "cell_type": "code",
   "execution_count": 28,
   "metadata": {},
   "outputs": [],
   "source": [
    "for i in range(times):\n",
    "    subset = uris[divisor*i:divisor*(i+1)]\n",
    "    sp.user_playlist_add_tracks(username, playlist_id='7kiHwhbzlfB4Ut01CMfp4P',\n",
    "                                tracks=subset)"
   ]
  }
 ],
 "metadata": {
  "kernelspec": {
   "display_name": "Python 3 (ipykernel)",
   "language": "python",
   "name": "python3"
  },
  "language_info": {
   "codemirror_mode": {
    "name": "ipython",
    "version": 3
   },
   "file_extension": ".py",
   "mimetype": "text/x-python",
   "name": "python",
   "nbconvert_exporter": "python",
   "pygments_lexer": "ipython3",
   "version": "3.9.7"
  },
  "toc": {
   "base_numbering": 1,
   "nav_menu": {},
   "number_sections": true,
   "sideBar": true,
   "skip_h1_title": true,
   "title_cell": "Table of Contents",
   "title_sidebar": "Contents",
   "toc_cell": false,
   "toc_position": {},
   "toc_section_display": true,
   "toc_window_display": true
  }
 },
 "nbformat": 4,
 "nbformat_minor": 4
}
