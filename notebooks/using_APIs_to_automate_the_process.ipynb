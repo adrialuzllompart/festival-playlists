{
 "cells": [
  {
   "cell_type": "markdown",
   "metadata": {},
   "source": [
    "# Festival Playlists"
   ]
  },
  {
   "cell_type": "code",
   "execution_count": 4,
   "metadata": {},
   "outputs": [],
   "source": [
    "import os\n",
    "import numpy as np\n",
    "import pandas as pd\n",
    "import requests\n",
    "import json\n",
    "import spotipy\n",
    "from IPython.display import display"
   ]
  },
  {
   "cell_type": "markdown",
   "metadata": {},
   "source": [
    "1. Use the Songkick API to get all the bands playing the festival\n",
    "2. Use the Setlist.FM API to get the setlists\n",
    "3. Use the Spotify API to create the playlists and add all the songs"
   ]
  },
  {
   "cell_type": "markdown",
   "metadata": {},
   "source": [
    "### Set API credentials"
   ]
  },
  {
   "cell_type": "code",
   "execution_count": 5,
   "metadata": {},
   "outputs": [],
   "source": [
    "setlistfm_api_key = os.getenv('SETLISTFM_API_KEY')\n",
    "spotify_client_id = os.getenv('SPOTIFY_CLIENT_ID')\n",
    "spotify_client_secret = os.getenv('SPOTIFY_CLIENT_SECRET')"
   ]
  },
  {
   "cell_type": "markdown",
   "metadata": {},
   "source": [
    "### Setlist FM"
   ]
  },
  {
   "cell_type": "markdown",
   "metadata": {},
   "source": [
    "#### Plan of action\n",
    "1. Given a lineup (list of band names), get their Musicbrainz identifiers (`mbid`) via `https://api.setlist.fm/rest/1.0/search/artists`\n",
    "2. Retrieve the setlists for each artist using their `mbid` via `https://api.setlist.fm/rest/1.0/artist/{artist_mbid}/setlists\n",
    "`"
   ]
  },
  {
   "cell_type": "code",
   "execution_count": 6,
   "metadata": {},
   "outputs": [],
   "source": [
    "lineup = pd.read_csv(\n",
    "    '/Users/adrialuz/Desktop/weekender.txt', header=None, names=['band'], encoding=\"ISO-8859-1\"\n",
    ")['band'].values"
   ]
  },
  {
   "cell_type": "code",
   "execution_count": 7,
   "metadata": {},
   "outputs": [
    {
     "data": {
      "text/plain": [
       "26"
      ]
     },
     "execution_count": 7,
     "metadata": {},
     "output_type": "execute_result"
    }
   ],
   "source": [
    "len(lineup)"
   ]
  },
  {
   "cell_type": "code",
   "execution_count": 8,
   "metadata": {},
   "outputs": [
    {
     "data": {
      "text/plain": [
       "array(['Fresquito y mango', 'Mainline magic circus', 'La zowi',\n",
       "       'Chica gang', 'Marie davidson', 'Viagra boys', 'Alewya',\n",
       "       'Kokoshca', 'Paco moreno', 'The thurston moore band', 'Soto asa',\n",
       "       'Kings of convenience', 'Casero', 'Mogwai', 'Pa salieu',\n",
       "       'Los planetas', 'Maria arnal i marcel bages', 'Benny sings',\n",
       "       'Hinds', 'Danny L Harle', 'Unai muguruza', 'Lagarde',\n",
       "       'Marina herlop', 'Renaldo i Clara', 'Wind atlas',\n",
       "       'El tablao flamenco del capullo de jerez'], dtype=object)"
      ]
     },
     "execution_count": 8,
     "metadata": {},
     "output_type": "execute_result"
    }
   ],
   "source": [
    "lineup"
   ]
  },
  {
   "cell_type": "code",
   "execution_count": 9,
   "metadata": {},
   "outputs": [],
   "source": [
    "artists_url = 'https://api.setlist.fm/rest/1.0/search/artists'"
   ]
  },
  {
   "cell_type": "code",
   "execution_count": 10,
   "metadata": {},
   "outputs": [
    {
     "name": "stdout",
     "output_type": "stream",
     "text": [
      "Couldn't find Fresquito y mango\n",
      "Couldn't find Mainline magic circus\n",
      "Couldn't find Chica gang\n",
      "Couldn't find Paco moreno\n",
      "Couldn't find The thurston moore band\n",
      "Couldn't find Maria arnal i marcel bages\n",
      "Couldn't find Unai muguruza\n",
      "Couldn't find Renaldo i Clara\n",
      "Couldn't find El tablao flamenco del capullo de jerez\n"
     ]
    }
   ],
   "source": [
    "lineup_mbids = []\n",
    "not_found = []\n",
    "\n",
    "for name in lineup:\n",
    "    req = requests.get(artists_url,\n",
    "                       headers={'x-api-key': setlistfm_api_key, 'Accept': 'application/json'},\n",
    "                       params={'artistName': name, 'p': 1, 'sort': 'relevance'}\n",
    "    )\n",
    "    \n",
    "    i = 0\n",
    "    while (not req.ok) & (i <= 5):\n",
    "        req = requests.get(artists_url,\n",
    "                           headers={'x-api-key': setlistfm_api_key, 'Accept': 'application/json'},\n",
    "                           params={'artistName': name, 'p': 1, 'sort': 'relevance'}\n",
    "        )\n",
    "        i += 1\n",
    "    \n",
    "    if req.ok:\n",
    "        artist_response = req.json()['artist']\n",
    "        num_artists = len(artist_response)\n",
    "        if num_artists > 1:\n",
    "            for i in range(num_artists):\n",
    "                if artist_response[i]['name'].lower() == name.lower():\n",
    "                    mbid = artist_response[i]['mbid']\n",
    "                    lineup_mbids.append({'name': name, 'mbid': mbid})\n",
    "                    break\n",
    "        elif num_artists == 1:\n",
    "            mbid = artist_response[0]['mbid']\n",
    "            lineup_mbids.append({'name': name, 'mbid': mbid})\n",
    "        elif num_artists == 0:\n",
    "            print(f'No results I think for {name}')\n",
    "        else:\n",
    "            print(f'WTF {name}?')\n",
    "                    \n",
    "    else:\n",
    "        print(f'Couldn\\'t find {name}')\n",
    "        not_found.append(name)"
   ]
  },
  {
   "cell_type": "code",
   "execution_count": 11,
   "metadata": {},
   "outputs": [
    {
     "data": {
      "text/plain": [
       "[{'name': 'La zowi', 'mbid': '5d704b62-ecb2-4129-93c5-6e40f9189fa8'},\n",
       " {'name': 'Marie davidson', 'mbid': '5e864744-89b6-4da8-b463-3ed601c22d8c'},\n",
       " {'name': 'Viagra boys', 'mbid': '9df0c0ec-619e-447d-a155-23e19d9c84ce'},\n",
       " {'name': 'Alewya', 'mbid': '49b5386b-a606-41b1-90e8-d9e7983b6f1b'},\n",
       " {'name': 'Kokoshca', 'mbid': '82eed032-a79f-42e1-b08b-2afd6db0ad40'},\n",
       " {'name': 'Soto asa', 'mbid': '34a034a5-cc93-4c92-9c01-c0cfd27f823f'},\n",
       " {'name': 'Kings of convenience',\n",
       "  'mbid': 'cf0f4547-ffbd-4011-98ad-0bec9ba022db'},\n",
       " {'name': 'Casero', 'mbid': '9e712d3d-b6e9-4f31-ba02-2c844d9adf72'},\n",
       " {'name': 'Mogwai', 'mbid': 'd700b3f5-45af-4d02-95ed-57d301bda93e'},\n",
       " {'name': 'Pa salieu', 'mbid': '03100b87-7d27-4d56-b049-2007599656cc'},\n",
       " {'name': 'Los planetas', 'mbid': '6f28b158-4d1a-4f31-9339-7f381e3c4ee1'},\n",
       " {'name': 'Benny sings', 'mbid': 'cdaf7932-ab05-4f71-8721-104da6e6b8d0'},\n",
       " {'name': 'Hinds', 'mbid': '615ba4a9-e5d2-45dc-bf75-a1b444a33fc9'},\n",
       " {'name': 'Danny L Harle', 'mbid': '1fd94d42-5e6a-46f2-84bf-9cc0be6c009f'},\n",
       " {'name': 'Marina herlop', 'mbid': 'a9cf7208-96ef-4b24-acfd-48f361b10f26'},\n",
       " {'name': 'Wind atlas', 'mbid': '3b27a346-d131-47a8-a051-d4a4e4d5a6ea'}]"
      ]
     },
     "execution_count": 11,
     "metadata": {},
     "output_type": "execute_result"
    }
   ],
   "source": [
    "lineup_mbids"
   ]
  },
  {
   "cell_type": "code",
   "execution_count": 12,
   "metadata": {},
   "outputs": [
    {
     "data": {
      "text/plain": [
       "['Fresquito y mango',\n",
       " 'Mainline magic circus',\n",
       " 'Chica gang',\n",
       " 'Paco moreno',\n",
       " 'The thurston moore band',\n",
       " 'Maria arnal i marcel bages',\n",
       " 'Unai muguruza',\n",
       " 'Renaldo i Clara',\n",
       " 'El tablao flamenco del capullo de jerez']"
      ]
     },
     "execution_count": 12,
     "metadata": {},
     "output_type": "execute_result"
    }
   ],
   "source": [
    "not_found"
   ]
  },
  {
   "cell_type": "code",
   "execution_count": 13,
   "metadata": {},
   "outputs": [
    {
     "name": "stderr",
     "output_type": "stream",
     "text": [
      "/var/folders/5g/z2_s3_7d75qgyjp72n_8q0p40000gq/T/ipykernel_81509/1942038417.py:42: DeprecationWarning: The default dtype for empty Series will be 'object' instead of 'float64' in a future version. Specify a dtype explicitly to silence this warning.\n",
      "  most_played_songs = list(pd.Series(songs_played).value_counts().head(15).index)\n"
     ]
    }
   ],
   "source": [
    "artist_setlist = []\n",
    "\n",
    "for a in lineup_mbids:\n",
    "    songs_played = []\n",
    "    mbid = a['mbid']\n",
    "    setlists_url = f'https://api.setlist.fm/rest/1.0/artist/{mbid}/setlists'\n",
    "    \n",
    "    req = requests.get(setlists_url,\n",
    "             headers={'x-api-key': setlistfm_api_key, 'Accept': 'application/json'},\n",
    "             params={'p': 1}\n",
    "    )\n",
    "    \n",
    "    i = 0\n",
    "    while (not req.ok) & (i <= 5):\n",
    "        req = requests.get(setlists_url,\n",
    "                 headers={'x-api-key': setlistfm_api_key, 'Accept': 'application/json'},\n",
    "                 params={'p': 1}\n",
    "        )\n",
    "        i += 1\n",
    "            \n",
    "    if req.ok:\n",
    "    \n",
    "        setlist_response = req.json()['setlist']\n",
    "        num_setlists = len(setlist_response)\n",
    "\n",
    "        for i in range(num_setlists):\n",
    "            setlist = setlist_response[i]['sets']['set']\n",
    "            num_sections = len(setlist)\n",
    "            total_songs = []\n",
    "            for p in range(num_sections):\n",
    "                total_songs += setlist[p]['song']\n",
    "            num_songs = len(total_songs)\n",
    "\n",
    "            for i in range(num_songs):\n",
    "                song = total_songs[i]\n",
    "                song_title = song['name']\n",
    "                # if the song is a cover add the original artist to the song title\n",
    "                if 'cover' in song:\n",
    "                    song_title += ' {}'.format(song['cover']['name'])\n",
    "                songs_played.append(song_title)\n",
    "                                           \n",
    "        most_played_songs = list(pd.Series(songs_played).value_counts().head(15).index)\n",
    "\n",
    "        artist_setlist.append({\n",
    "            'artist': a['name'],\n",
    "            'setlist': most_played_songs\n",
    "        })\n",
    "    else:\n",
    "        not_found.append(a['name'])"
   ]
  },
  {
   "cell_type": "code",
   "execution_count": 14,
   "metadata": {},
   "outputs": [
    {
     "data": {
      "text/plain": [
       "['Fresquito y mango',\n",
       " 'Mainline magic circus',\n",
       " 'Chica gang',\n",
       " 'Paco moreno',\n",
       " 'The thurston moore band',\n",
       " 'Maria arnal i marcel bages',\n",
       " 'Unai muguruza',\n",
       " 'Renaldo i Clara',\n",
       " 'El tablao flamenco del capullo de jerez']"
      ]
     },
     "execution_count": 14,
     "metadata": {},
     "output_type": "execute_result"
    }
   ],
   "source": [
    "not_found"
   ]
  },
  {
   "cell_type": "code",
   "execution_count": 15,
   "metadata": {},
   "outputs": [
    {
     "data": {
      "text/plain": [
       "[{'artist': 'La zowi',\n",
       "  'setlist': ['No Lo Ves',\n",
       "   'Bitch Mode',\n",
       "   'Trust No Bitch',\n",
       "   'Putas (Remix)',\n",
       "   'Bitch Te Quemas',\n",
       "   'Oscuro',\n",
       "   'Obra de arte',\n",
       "   'Tu o Yo',\n",
       "   'Thotie of the Year',\n",
       "   '(Unknown)',\n",
       "   'Si Te Pillo (ft la Albany)',\n",
       "   'Pussy Poppin (ft la Goony Chonga)',\n",
       "   'Tu o Yo (con interludio)*',\n",
       "   'Filet Mignon',\n",
       "   'Sugar mami']},\n",
       " {'artist': 'Marie davidson',\n",
       "  'setlist': ['The Psychologist',\n",
       "   'Workaholic Paranoid Bitch',\n",
       "   'Lara',\n",
       "   'Work It',\n",
       "   'Excès de vitesse',\n",
       "   'Naive to the Bone',\n",
       "   'So Right',\n",
       "   'Adieu Au Dancefloor',\n",
       "   'Chasing The Light',\n",
       "   'Planète Ego']},\n",
       " {'artist': 'Viagra boys',\n",
       "  'setlist': ['Slow Learner',\n",
       "   'Just Like You',\n",
       "   'Down in the Basement',\n",
       "   'Sports',\n",
       "   'Shrimp Shack',\n",
       "   'Research Chemicals',\n",
       "   'Worms',\n",
       "   'Frogstrap',\n",
       "   'Amphetanarchy',\n",
       "   'Call of the Wild',\n",
       "   'Femtaktam',\n",
       "   'Liquids',\n",
       "   'Frijazz',\n",
       "   'Up All Night',\n",
       "   \"I Don't Remember That\"]},\n",
       " {'artist': 'Alewya', 'setlist': []},\n",
       " {'artist': 'Kokoshca',\n",
       "  'setlist': ['La fuerza',\n",
       "   'No volveré',\n",
       "   'Directo a tu corazón',\n",
       "   'Las chicas',\n",
       "   'Calle lloviendo',\n",
       "   'Mi consentido',\n",
       "   'No queda nada',\n",
       "   'Hay una luz',\n",
       "   'Seguiremos en pie',\n",
       "   'Txomin',\n",
       "   'Cumpleaños feliz',\n",
       "   'Corazón caliente',\n",
       "   'Himno de España',\n",
       "   'Prefiero golpes',\n",
       "   'Aire']},\n",
       " {'artist': 'Soto asa', 'setlist': []},\n",
       " {'artist': 'Kings of convenience',\n",
       "  'setlist': ['',\n",
       "   'Rocky Trail',\n",
       "   'Misread',\n",
       "   'Cayman Islands',\n",
       "   'Mrs. Cold',\n",
       "   'Homesick',\n",
       "   '24-25',\n",
       "   \"I'd Rather Dance With You\",\n",
       "   'Comb My Hair',\n",
       "   'Fever',\n",
       "   'Killers',\n",
       "   'Catholic Country',\n",
       "   'Boat Behind',\n",
       "   'Love Is a Lonely Thing',\n",
       "   'Angel']},\n",
       " {'artist': 'Casero',\n",
       "  'setlist': ['',\n",
       "   'Cuanto más',\n",
       "   'Frutos secos',\n",
       "   'Haiti',\n",
       "   'Islas desiertas',\n",
       "   'Los planes contigo']},\n",
       " {'artist': 'Mogwai',\n",
       "  'setlist': ['Mogwai Fear Satan',\n",
       "   'Remurdered',\n",
       "   \"I'm Jim Morrison, I'm Dead\",\n",
       "   'Old Poisons',\n",
       "   'Hunted by a Freak',\n",
       "   'Crossing the Road Material',\n",
       "   'Party in the Dark',\n",
       "   'Rano Pano',\n",
       "   \"Don't Believe the Fife\",\n",
       "   'New Paths to Helicon, Pt. 1',\n",
       "   'Auto Rock',\n",
       "   'Ritchie Sacramento',\n",
       "   \"We're No Here\",\n",
       "   'Dry Fantasy',\n",
       "   'How to Be a Werewolf']},\n",
       " {'artist': 'Pa salieu', 'setlist': []},\n",
       " {'artist': 'Los planetas',\n",
       "  'setlist': ['Segundo premio',\n",
       "   'Toxicosmos',\n",
       "   'David y Claudia',\n",
       "   'Si estaba loco por ti',\n",
       "   'Islamabad',\n",
       "   'De viaje',\n",
       "   'Cumpleaños total',\n",
       "   'Línea 1',\n",
       "   'Alegrías del incendio',\n",
       "   'Ya no me asomo a la reja',\n",
       "   'Parte de lo que me debes',\n",
       "   'Santos que yo te pinte',\n",
       "   'Desaparecer',\n",
       "   'La playa',\n",
       "   'Un mundo de gente incompleta']},\n",
       " {'artist': 'Benny sings',\n",
       "  'setlist': ['Passionfruit Drake',\n",
       "   'Straight Lines',\n",
       "   'Big Brown Eyes',\n",
       "   'Champagne People',\n",
       "   'Not Enough',\n",
       "   'Beach House',\n",
       "   'Duplicate',\n",
       "   'Everything I Know',\n",
       "   'Shoebox Money',\n",
       "   'Late at Night',\n",
       "   'Softly (Tokyo)',\n",
       "   'My Favorite Game',\n",
       "   'Familiar',\n",
       "   'Music',\n",
       "   'Get There']},\n",
       " {'artist': 'Hinds',\n",
       "  'setlist': ['Burn',\n",
       "   'The Club',\n",
       "   'Good Bad Times',\n",
       "   'Spanish Bombs The Clash',\n",
       "   'Garden',\n",
       "   'Riding Solo',\n",
       "   'New For You',\n",
       "   'Just Like Kids (Miau)',\n",
       "   'Boy',\n",
       "   'Come Back and Love Me <3',\n",
       "   'This Moment Forever',\n",
       "   'Bamboo',\n",
       "   'Rookie',\n",
       "   'Castigadas en el granero',\n",
       "   'Waiting for You']},\n",
       " {'artist': 'Danny L Harle',\n",
       "  'setlist': ['Broken Flowers',\n",
       "   'Ashes of Love',\n",
       "   'Nothingy',\n",
       "   'Panda Bear - Come To Your Senses (Danny L Harle Remix)',\n",
       "   '',\n",
       "   'Call Me Maybe (Audio Paradyne Bootleg) Carly Rae Jepsen',\n",
       "   'In My Dreams',\n",
       "   'Blue Angel (feat. Clairo) (DJ Danny Harlecore Remix)',\n",
       "   'SOPHIE - Ponyboy (Danny L Harle Edit)',\n",
       "   'Dj Paul Elstak - Rainbow In The Sky (Danny L Harle Edit)',\n",
       "   'Ariana Grande - No Tears Left To Cry (Danny L Harle Edit)',\n",
       "   'Take My Heart Away (feat. Eyelar)',\n",
       "   'Me4U',\n",
       "   '1UL',\n",
       "   'Without You']},\n",
       " {'artist': 'Marina herlop', 'setlist': []},\n",
       " {'artist': 'Wind atlas',\n",
       "  'setlist': ['Shedding Light',\n",
       "   'En la cruz',\n",
       "   'Herencia de Jade',\n",
       "   'Under These Waters',\n",
       "   'Ruins',\n",
       "   'Desertor',\n",
       "   'Where Nothing Happens',\n",
       "   'An Edible Body',\n",
       "   'Esta despedida',\n",
       "   'Hunger',\n",
       "   'Dos ojos',\n",
       "   'That Mouth',\n",
       "   'To Clarice',\n",
       "   'The Goddess Is Where It Is Venerated',\n",
       "   'Rosemary']}]"
      ]
     },
     "execution_count": 15,
     "metadata": {},
     "output_type": "execute_result"
    }
   ],
   "source": [
    "artist_setlist"
   ]
  },
  {
   "cell_type": "code",
   "execution_count": 16,
   "metadata": {},
   "outputs": [],
   "source": [
    "setlist_lengths = []\n",
    "short_or_empty_setlist = []\n",
    "\n",
    "for i in range(len(artist_setlist)):\n",
    "    n_songs = len(artist_setlist[i]['setlist'])\n",
    "    setlist_lengths.append({\n",
    "        'artist': artist_setlist[i]['artist'],\n",
    "        'n_songs': n_songs\n",
    "    })\n",
    "    \n",
    "    if n_songs < 5:\n",
    "        short_or_empty_setlist.append(artist_setlist[i]['artist'])"
   ]
  },
  {
   "cell_type": "code",
   "execution_count": 17,
   "metadata": {},
   "outputs": [
    {
     "data": {
      "text/plain": [
       "4"
      ]
     },
     "execution_count": 17,
     "metadata": {},
     "output_type": "execute_result"
    }
   ],
   "source": [
    "len(short_or_empty_setlist)"
   ]
  },
  {
   "cell_type": "code",
   "execution_count": 18,
   "metadata": {},
   "outputs": [
    {
     "data": {
      "text/plain": [
       "['Alewya', 'Soto asa', 'Pa salieu', 'Marina herlop']"
      ]
     },
     "execution_count": 18,
     "metadata": {},
     "output_type": "execute_result"
    }
   ],
   "source": [
    "short_or_empty_setlist"
   ]
  },
  {
   "cell_type": "markdown",
   "metadata": {},
   "source": [
    "### Spotify"
   ]
  },
  {
   "cell_type": "code",
   "execution_count": 34,
   "metadata": {},
   "outputs": [],
   "source": [
    "username = 'adrialuz'\n",
    "scope = 'playlist-modify-public'\n",
    "\n",
    "token = spotipy.util.prompt_for_user_token(username, scope, redirect_uri='http://localhost:9090')\n",
    "\n",
    "sp = spotipy.Spotify(auth=token)\n",
    "\n",
    "sp.trace = False"
   ]
  },
  {
   "cell_type": "code",
   "execution_count": 20,
   "metadata": {},
   "outputs": [
    {
     "data": {
      "text/plain": [
       "'6M2wZ9GZgrQXHCFfjv46we'"
      ]
     },
     "execution_count": 20,
     "metadata": {},
     "output_type": "execute_result"
    }
   ],
   "source": [
    "sp.search('artist:Dua Lipa', limit=1, type='artist', market='GB')['artists']['items'][0]['id']"
   ]
  },
  {
   "cell_type": "code",
   "execution_count": 21,
   "metadata": {},
   "outputs": [
    {
     "data": {
      "text/plain": [
       "[{'external_urls': {'spotify': 'https://open.spotify.com/artist/0QHgL1lAIqAw0HtD7YldmP'},\n",
       "  'followers': {'href': None, 'total': 6468234},\n",
       "  'genres': ['hip hop',\n",
       "   'miami hip hop',\n",
       "   'pop',\n",
       "   'pop rap',\n",
       "   'rap',\n",
       "   'southern hip hop',\n",
       "   'trap'],\n",
       "  'href': 'https://api.spotify.com/v1/artists/0QHgL1lAIqAw0HtD7YldmP',\n",
       "  'id': '0QHgL1lAIqAw0HtD7YldmP',\n",
       "  'images': [{'height': 640,\n",
       "    'url': 'https://i.scdn.co/image/ab6761610000e5ebbf921114b7f19be97ce29647',\n",
       "    'width': 640},\n",
       "   {'height': 320,\n",
       "    'url': 'https://i.scdn.co/image/ab67616100005174bf921114b7f19be97ce29647',\n",
       "    'width': 320},\n",
       "   {'height': 160,\n",
       "    'url': 'https://i.scdn.co/image/ab6761610000f178bf921114b7f19be97ce29647',\n",
       "    'width': 160}],\n",
       "  'name': 'DJ Khaled',\n",
       "  'popularity': 80,\n",
       "  'type': 'artist',\n",
       "  'uri': 'spotify:artist:0QHgL1lAIqAw0HtD7YldmP'},\n",
       " {'external_urls': {'spotify': 'https://open.spotify.com/artist/28ztjHIXceRRntmTUfnmUX'},\n",
       "  'followers': {'href': None, 'total': 1318648},\n",
       "  'genres': ['classic arab pop', 'rai'],\n",
       "  'href': 'https://api.spotify.com/v1/artists/28ztjHIXceRRntmTUfnmUX',\n",
       "  'id': '28ztjHIXceRRntmTUfnmUX',\n",
       "  'images': [{'height': 640,\n",
       "    'url': 'https://i.scdn.co/image/ab6761610000e5ebb21be564348724f82433d110',\n",
       "    'width': 640},\n",
       "   {'height': 320,\n",
       "    'url': 'https://i.scdn.co/image/ab67616100005174b21be564348724f82433d110',\n",
       "    'width': 320},\n",
       "   {'height': 160,\n",
       "    'url': 'https://i.scdn.co/image/ab6761610000f178b21be564348724f82433d110',\n",
       "    'width': 160}],\n",
       "  'name': 'Khaled',\n",
       "  'popularity': 61,\n",
       "  'type': 'artist',\n",
       "  'uri': 'spotify:artist:28ztjHIXceRRntmTUfnmUX'}]"
      ]
     },
     "execution_count": 21,
     "metadata": {},
     "output_type": "execute_result"
    }
   ],
   "source": [
    "sp.search(\n",
    "        f'artist:Khaled', limit=2, type='artist', market='GB'\n",
    "    )['artists']['items']"
   ]
  },
  {
   "cell_type": "code",
   "execution_count": 22,
   "metadata": {
    "scrolled": true
   },
   "outputs": [],
   "source": [
    "spotify_ids = []\n",
    "for a in short_or_empty_setlist:\n",
    "    search_result = sp.search(\n",
    "        f'artist:{a}', limit=5, type='artist', market='GB'\n",
    "    )['artists']['items']\n",
    "    \n",
    "    if search_result:\n",
    "        for i in range(len(search_result)):\n",
    "            name = search_result[i]['name']\n",
    "            if name.lower() == a.lower():\n",
    "                artist_id = search_result[i]['id']\n",
    "                spotify_ids.append(artist_id)\n",
    "                break\n",
    "            else:\n",
    "                pass\n",
    "    else:\n",
    "        print(f'Couldn\\'t find {a} on Spotify.')"
   ]
  },
  {
   "cell_type": "code",
   "execution_count": 23,
   "metadata": {},
   "outputs": [
    {
     "data": {
      "text/plain": [
       "['0wcjJjpvnHb5vK4iwKfxPm',\n",
       " '6gyhsZUy2fzzWZBRVPmOw4',\n",
       " '290nCNEce1y6rfoJiO2rK7',\n",
       " '4ZG4S6skttdVhHz08AjMhR']"
      ]
     },
     "execution_count": 23,
     "metadata": {},
     "output_type": "execute_result"
    }
   ],
   "source": [
    "spotify_ids"
   ]
  },
  {
   "cell_type": "code",
   "execution_count": 24,
   "metadata": {},
   "outputs": [
    {
     "data": {
      "text/plain": [
       "'Special Request'"
      ]
     },
     "execution_count": 24,
     "metadata": {},
     "output_type": "execute_result"
    }
   ],
   "source": [
    "sp.artist('59xdAObFYuaKO2phzzz07H')['name']"
   ]
  },
  {
   "cell_type": "code",
   "execution_count": 25,
   "metadata": {},
   "outputs": [],
   "source": [
    "popular_songs = []\n",
    "\n",
    "for artist_id in spotify_ids:\n",
    "    search_results = sp.artist_top_tracks(artist_id, country='GB')['tracks']\n",
    "\n",
    "    top_songs = []\n",
    "    if search_results:\n",
    "        for i in range(len(search_results)):\n",
    "            song_name = search_results[i]['name']\n",
    "            top_songs.append(song_name)\n",
    "        popular_songs.append({\n",
    "            'artist': sp.artist(artist_id)['name'],\n",
    "            'setlist': top_songs\n",
    "        })\n",
    "    else:\n",
    "        print(artist_id, sp.artist(artist_id)['name'])"
   ]
  },
  {
   "cell_type": "code",
   "execution_count": 26,
   "metadata": {},
   "outputs": [
    {
     "data": {
      "text/plain": [
       "[{'artist': 'Alewya',\n",
       "  'setlist': ['Sweating',\n",
       "   'Spirit_X',\n",
       "   'where’s my lighter',\n",
       "   'Play',\n",
       "   'The Code',\n",
       "   'Sweating - Breakage Remix',\n",
       "   'Jagna',\n",
       "   'Sweating (Honey Dijon Remix) - Edit',\n",
       "   'Sweating - Honey Dijon Remix']},\n",
       " {'artist': 'Soto Asa',\n",
       "  'setlist': ['Smartphone',\n",
       "   'Si Tu Kiere',\n",
       "   'Me Gustaron Tus Nai',\n",
       "   'Klub',\n",
       "   'Kiyaera',\n",
       "   'Christian Dior',\n",
       "   'Hadu',\n",
       "   'Yo Te Buské',\n",
       "   'Otra Realidad',\n",
       "   'Dolce']},\n",
       " {'artist': 'Pa Salieu',\n",
       "  'setlist': ['Glidin’ (feat. slowthai)',\n",
       "   'Energy (feat. Mahalia)',\n",
       "   'Lit',\n",
       "   'Hit The Block (with Pa Salieu)',\n",
       "   'Like Tu Danz',\n",
       "   'Informa (feat. M1llionz)',\n",
       "   'Style & Fashion (feat. Obongjayar)',\n",
       "   'My Family (feat. BackRoad Gee)',\n",
       "   'Shining (feat. Tay Iwar & Zlatan)',\n",
       "   'Frontline']},\n",
       " {'artist': 'Marina Herlop',\n",
       "  'setlist': ['miu',\n",
       "   'Doiloi',\n",
       "   'Heks',\n",
       "   'Odessa',\n",
       "   'Hval',\n",
       "   'Snu',\n",
       "   'Bus II',\n",
       "   'Bange',\n",
       "   'Svane',\n",
       "   'Goor']}]"
      ]
     },
     "execution_count": 26,
     "metadata": {},
     "output_type": "execute_result"
    }
   ],
   "source": [
    "popular_songs"
   ]
  },
  {
   "cell_type": "markdown",
   "metadata": {},
   "source": [
    "Get the URI codes for each track"
   ]
  },
  {
   "cell_type": "code",
   "execution_count": 27,
   "metadata": {},
   "outputs": [],
   "source": [
    "uris = []\n",
    "missing_songs = []\n",
    "\n",
    "for a in (artist_setlist + popular_songs):\n",
    "    artist = a['artist']\n",
    "    setlist = a['setlist']\n",
    "    for s in setlist:\n",
    "        s = s.replace(',', '').replace('\\'', '').replace('\"', '').replace('.', '').replace(\n",
    "            '?', '').replace(')', '').replace('(', '').replace('/', '').replace(\n",
    "            '\\\\', '').replace('&', '').replace('-', '')\n",
    "        items = sp.search(q=f'artist:{artist} track:{s}', limit=1)['tracks']['items']\n",
    "        if items:\n",
    "            uri = items[0]['id']\n",
    "            uris.append(uri)\n",
    "        else:\n",
    "            items = sp.search(q=f'track:{s}', limit=1)['tracks']['items']\n",
    "            if items:\n",
    "                if items != [None]:\n",
    "                    uri = items[0]['id']\n",
    "                    uris.append(uri)\n",
    "            else:\n",
    "                missing_songs.append({\n",
    "                    'artist': artist,\n",
    "                    'song': s\n",
    "                })"
   ]
  },
  {
   "cell_type": "code",
   "execution_count": 28,
   "metadata": {},
   "outputs": [
    {
     "data": {
      "text/plain": [
       "194"
      ]
     },
     "execution_count": 28,
     "metadata": {},
     "output_type": "execute_result"
    }
   ],
   "source": [
    "len(uris)"
   ]
  },
  {
   "cell_type": "code",
   "execution_count": 29,
   "metadata": {},
   "outputs": [
    {
     "data": {
      "text/plain": [
       "11"
      ]
     },
     "execution_count": 29,
     "metadata": {},
     "output_type": "execute_result"
    }
   ],
   "source": [
    "len(missing_songs)"
   ]
  },
  {
   "cell_type": "code",
   "execution_count": 30,
   "metadata": {},
   "outputs": [
    {
     "data": {
      "text/plain": [
       "[{'artist': 'La zowi', 'song': 'Si Te Pillo ft la Albany'},\n",
       " {'artist': 'La zowi', 'song': 'Pussy Poppin ft la Goony Chonga'},\n",
       " {'artist': 'La zowi', 'song': 'Tu o Yo con interludio*'},\n",
       " {'artist': 'Viagra boys', 'song': 'Femtaktam'},\n",
       " {'artist': 'Danny L Harle',\n",
       "  'song': 'Panda Bear  Come To Your Senses Danny L Harle Remix'},\n",
       " {'artist': 'Danny L Harle',\n",
       "  'song': 'Call Me Maybe Audio Paradyne Bootleg Carly Rae Jepsen'},\n",
       " {'artist': 'Danny L Harle',\n",
       "  'song': 'Blue Angel feat Clairo DJ Danny Harlecore Remix'},\n",
       " {'artist': 'Danny L Harle', 'song': 'SOPHIE  Ponyboy Danny L Harle Edit'},\n",
       " {'artist': 'Danny L Harle',\n",
       "  'song': 'Dj Paul Elstak  Rainbow In The Sky Danny L Harle Edit'},\n",
       " {'artist': 'Danny L Harle',\n",
       "  'song': 'Ariana Grande  No Tears Left To Cry Danny L Harle Edit'},\n",
       " {'artist': 'Danny L Harle', 'song': 'Take My Heart Away feat Eyelar'}]"
      ]
     },
     "execution_count": 30,
     "metadata": {},
     "output_type": "execute_result"
    }
   ],
   "source": [
    "missing_songs"
   ]
  },
  {
   "cell_type": "code",
   "execution_count": 31,
   "metadata": {},
   "outputs": [],
   "source": [
    "divisor = int(np.floor(len(uris) / np.ceil(len(uris) / 100)))\n",
    "times = int(np.floor(len(uris) / divisor))"
   ]
  },
  {
   "cell_type": "code",
   "execution_count": 37,
   "metadata": {},
   "outputs": [],
   "source": [
    "for i in range(times):\n",
    "    subset = uris[divisor*i:divisor*(i+1)]\n",
    "    sp.user_playlist_add_tracks(username, playlist_id='2nUkznVEo8EgQXw0UucbpS',\n",
    "                                tracks=subset)"
   ]
  }
 ],
 "metadata": {
  "kernelspec": {
   "display_name": "Python 3 (ipykernel)",
   "language": "python",
   "name": "python3"
  },
  "language_info": {
   "codemirror_mode": {
    "name": "ipython",
    "version": 3
   },
   "file_extension": ".py",
   "mimetype": "text/x-python",
   "name": "python",
   "nbconvert_exporter": "python",
   "pygments_lexer": "ipython3",
   "version": "3.9.7"
  },
  "toc": {
   "base_numbering": 1,
   "nav_menu": {},
   "number_sections": true,
   "sideBar": true,
   "skip_h1_title": true,
   "title_cell": "Table of Contents",
   "title_sidebar": "Contents",
   "toc_cell": false,
   "toc_position": {},
   "toc_section_display": true,
   "toc_window_display": true
  }
 },
 "nbformat": 4,
 "nbformat_minor": 4
}
